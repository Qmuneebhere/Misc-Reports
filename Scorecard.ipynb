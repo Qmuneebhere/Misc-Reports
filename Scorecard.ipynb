{
 "cells": [
  {
   "cell_type": "code",
   "execution_count": 4,
   "id": "1d538cca",
   "metadata": {},
   "outputs": [],
   "source": [
    "import pandas as pd\n",
    "import numpy as np\n",
    "from datetime import date, timedelta"
   ]
  },
  {
   "cell_type": "markdown",
   "id": "19fbe412-2f43-4ab2-8e36-6a4c37fedf83",
   "metadata": {},
   "source": [
    "### Performance Data (rawdf)"
   ]
  },
  {
   "cell_type": "code",
   "execution_count": 5,
   "id": "085d8224",
   "metadata": {},
   "outputs": [],
   "source": [
    "rawdf = pd.read_excel('UNI Agency Performance Dashboard_11-08-2023.xlsm', \n",
    "                       sheet_name='Input - Performance Data', dtype=str)"
   ]
  },
  {
   "cell_type": "markdown",
   "id": "ca9bdcdd-fc28-40bd-8f5d-c543e8231552",
   "metadata": {
    "jp-MarkdownHeadingCollapsed": true
   },
   "source": [
    "# Dataframe One (Volume Data)"
   ]
  },
  {
   "cell_type": "markdown",
   "id": "6bcff6c5-cb4a-485e-b7f7-8eeb9cd618f0",
   "metadata": {},
   "source": [
    "### Required Columns"
   ]
  },
  {
   "cell_type": "code",
   "execution_count": 68,
   "id": "b676d871-067d-46e0-b394-f5dec4ed1bf2",
   "metadata": {},
   "outputs": [],
   "source": [
    "col1 = ['Collection Tier', 'Servicer','Place YrMo', 'Accounts', 'Balance',\n",
    "        'Current Volume', 'Current Balance']\n",
    "\n",
    "# Numeric Columns\n",
    "\n",
    "numeric1 = col1[3:]"
   ]
  },
  {
   "cell_type": "code",
   "execution_count": 69,
   "id": "f990ebcb-4c48-413a-b31a-9d33eb8e658a",
   "metadata": {},
   "outputs": [],
   "source": [
    "dfOne = rawdf[col1]"
   ]
  },
  {
   "cell_type": "markdown",
   "id": "13d2887c",
   "metadata": {},
   "source": [
    "### Filters Required Tiers"
   ]
  },
  {
   "cell_type": "code",
   "execution_count": 70,
   "id": "c467b7c6",
   "metadata": {},
   "outputs": [],
   "source": [
    "# List of tier names required\n",
    "\n",
    "tierList = ['Dismissed Bankruptcy Prime', 'Value Tier A+', 'Value Tier A',\n",
    "            'Value Tier B', 'Value Tier C', 'Value Tier D', 'Value Tier E', \n",
    "            'Value Tier F', 'Value Tier G', 'Spanish Value Tier A',\n",
    "            'Spanish Value Tier B', 'Spanish Value Tier C', 'Auto Value Tier A',\n",
    "            'Auto Value Tier B', 'Auto Value Tier C', 'Auto Value Tier D',\n",
    "            'Auto Value Tier E', 'Sallie Mae 1', 'Sallie Mae 2' ]"
   ]
  },
  {
   "cell_type": "code",
   "execution_count": 71,
   "id": "a2d5d374",
   "metadata": {},
   "outputs": [],
   "source": [
    "dfOne = dfOne[dfOne['Collection Tier'].isin(tierList)]"
   ]
  },
  {
   "cell_type": "markdown",
   "id": "6d0f8cc3",
   "metadata": {},
   "source": [
    "### Filters Required Months"
   ]
  },
  {
   "cell_type": "code",
   "execution_count": 72,
   "id": "3060f8ef",
   "metadata": {},
   "outputs": [],
   "source": [
    "def RequiredMonths(monthsNum, current=False):\n",
    "\n",
    "    currDate = date.today()\n",
    "\n",
    "    # List of dates of each required month\n",
    "\n",
    "    if current == True: MonthList = [currDate.strftime('%Y%m')]\n",
    "    else: MonthList = []\n",
    "\n",
    "    for i in range(monthsNum):\n",
    "\n",
    "        prevDate = currDate - timedelta(days=currDate.day)\n",
    "        currDate = prevDate\n",
    "\n",
    "        # Only the month and year of previous date is required\n",
    "\n",
    "        MonthList.append(prevDate.strftime('%Y%m'))\n",
    "    \n",
    "    return MonthList"
   ]
  },
  {
   "cell_type": "code",
   "execution_count": 509,
   "id": "f1b2fc15",
   "metadata": {},
   "outputs": [],
   "source": [
    "monthList6 = RequiredMonths(6)\n",
    "\n",
    "dfOne = dfOne[dfOne['Place YrMo'].isin(monthList6)]"
   ]
  },
  {
   "cell_type": "markdown",
   "id": "0afa4ec4-d873-4251-b519-0bb1b9502939",
   "metadata": {},
   "source": [
    "### Changes dataType of Columns"
   ]
  },
  {
   "cell_type": "code",
   "execution_count": 74,
   "id": "73b4f1b9",
   "metadata": {},
   "outputs": [],
   "source": [
    "dfOne[numeric1] = dfOne[numeric1].apply(pd.to_numeric, errors='coerce', downcast='float')"
   ]
  },
  {
   "cell_type": "markdown",
   "id": "b545a5b6-bbae-4d08-9bbb-d60f43294677",
   "metadata": {},
   "source": [
    "### Function for each column Dictionary"
   ]
  },
  {
   "cell_type": "code",
   "execution_count": 415,
   "id": "3479e824-170d-43cf-b357-bb82d15e6d33",
   "metadata": {},
   "outputs": [],
   "source": [
    "dict1 = {'Accounts': 'sum', 'Balance': 'sum',\n",
    "        'Current Volume': 'sum', 'Current Balance': 'sum'}"
   ]
  },
  {
   "cell_type": "markdown",
   "id": "9c1be6c5-4ed1-41dd-82c9-7ad387c7e649",
   "metadata": {},
   "source": [
    "### Dataframe with Multi-Index (Tier, Servicer)"
   ]
  },
  {
   "cell_type": "code",
   "execution_count": 11,
   "id": "ac0f9230-8bee-40de-985f-cfe74f93ed35",
   "metadata": {},
   "outputs": [],
   "source": [
    "dfVolumn = dfOne.groupby(['Collection Tier', 'Servicer']).agg(dict1)"
   ]
  },
  {
   "cell_type": "markdown",
   "id": "b9edc5cb-4d37-4748-90e2-7d91c5b48a2d",
   "metadata": {},
   "source": [
    "### Dataframe with Multi-Index Column"
   ]
  },
  {
   "cell_type": "code",
   "execution_count": 12,
   "id": "79647051-f928-493b-b990-638b6dde5b40",
   "metadata": {},
   "outputs": [],
   "source": [
    "dfVolumn.reset_index(inplace=True)"
   ]
  },
  {
   "cell_type": "code",
   "execution_count": 13,
   "id": "cbb7ae9c-2a46-49c5-9b7a-fbfdade278c4",
   "metadata": {},
   "outputs": [],
   "source": [
    "dfPivot = dfVolumn.pivot(index='Collection Tier', columns='Servicer', values=numeric1)"
   ]
  },
  {
   "cell_type": "markdown",
   "id": "0a150573-436a-4deb-8415-d19d0e8bba86",
   "metadata": {},
   "source": [
    "### Final DataFrame (First 7 Columns)"
   ]
  },
  {
   "cell_type": "code",
   "execution_count": 14,
   "id": "f4c43e1f-5231-4fce-bf08-76e73796ff91",
   "metadata": {},
   "outputs": [],
   "source": [
    "# Columns required\n",
    "\n",
    "TotalSegAcc = dfPivot.loc[:, ('Accounts', 'Total')].rename('Total Acc')\n",
    "TotalSegAmt = dfPivot.loc[:, ('Balance', 'Total')].rename('Total Amt')\n",
    "UniSegAcc = dfPivot.loc[:, ('Accounts', 'UNI')].rename('UNI Acc')\n",
    "UniSegAmt = dfPivot.loc[:, ('Balance', 'UNI')].rename('UNI Amt')\n",
    "UniCurrAcc = dfPivot.loc[:, ('Current Volume', 'UNI')].rename('UNI Current Acc')\n",
    "UniCurrAmt = dfPivot.loc[:, ('Current Balance', 'UNI')].rename('UNI Current Amt')\n",
    "\n",
    "# Joining Columns to make a final DataFrame\n",
    "\n",
    "dfOneFinal = pd.concat([TotalSegAcc, TotalSegAmt, UniSegAcc,\n",
    "                       UniSegAmt, UniCurrAcc, UniCurrAmt], axis=1)\n",
    "\n",
    "# Sorts dataframe according to tiers required\n",
    "\n",
    "dfOneFinal = dfOneFinal.reindex(tierList)\n",
    "\n",
    "# Adds a new column with % Account Column\n",
    "\n",
    "dfOneFinal['% Acc'] = dfOneFinal['UNI Acc'] / dfOneFinal['Total Acc']\n",
    "\n",
    "dfOneFinal.to_csv('Check1.csv')"
   ]
  },
  {
   "cell_type": "markdown",
   "id": "0d9fa46b-45db-4891-bdeb-bf5c24fa8ff9",
   "metadata": {
    "jp-MarkdownHeadingCollapsed": true
   },
   "source": [
    "# Dataframe Two (% Liq to Maximum)"
   ]
  },
  {
   "cell_type": "markdown",
   "id": "6f2b8984-2378-4e49-a3ad-45c2d42fdf71",
   "metadata": {},
   "source": [
    "### Required Columns"
   ]
  },
  {
   "cell_type": "code",
   "execution_count": 132,
   "id": "294c95ad-6a08-47b5-975c-97ff60d61987",
   "metadata": {},
   "outputs": [],
   "source": [
    "col2 = ['Collection Tier', 'Servicer','Place YrMo', 'Accounts', 'Balance',\n",
    "        'Current Volume', 'Liq Rate']\n",
    "\n",
    "# Numeric Columns\n",
    "\n",
    "numeric2 = col2[3:]"
   ]
  },
  {
   "cell_type": "code",
   "execution_count": 133,
   "id": "89afc1d6-8a27-4c40-aceb-0646f371065c",
   "metadata": {},
   "outputs": [],
   "source": [
    "dfTwo = rawdf[col2]"
   ]
  },
  {
   "cell_type": "markdown",
   "id": "4fa92765-acff-4274-97ca-736b2086827f",
   "metadata": {},
   "source": [
    "### Filters Required Tiers"
   ]
  },
  {
   "cell_type": "code",
   "execution_count": 134,
   "id": "aad63d75-0084-4e38-9aa3-ba2514ee1262",
   "metadata": {},
   "outputs": [],
   "source": [
    "dfTwo = dfTwo[dfTwo['Collection Tier'].isin(tierList)]"
   ]
  },
  {
   "cell_type": "markdown",
   "id": "c1b70e94-e995-436a-a9d2-a6fb711f8804",
   "metadata": {},
   "source": [
    "### Filters Required Months"
   ]
  },
  {
   "cell_type": "code",
   "execution_count": 135,
   "id": "5c1b1c81-7e9d-4761-a4c4-17e06f2770f6",
   "metadata": {},
   "outputs": [],
   "source": [
    "dfTwo = dfTwo[dfTwo['Place YrMo'].isin(monthList14)]"
   ]
  },
  {
   "cell_type": "markdown",
   "id": "7286dfe2-5fc3-4a1b-b905-620888025621",
   "metadata": {},
   "source": [
    "### Changes dataType of Columns"
   ]
  },
  {
   "cell_type": "code",
   "execution_count": 136,
   "id": "f3533eaf-e441-431f-b802-6b7e8898df56",
   "metadata": {},
   "outputs": [],
   "source": [
    "dfTwo[numeric2] = dfTwo[numeric2].apply(pd.to_numeric, errors='coerce', downcast='float')"
   ]
  },
  {
   "cell_type": "code",
   "execution_count": 137,
   "id": "c51891af-10e3-4615-b693-89f68516252f",
   "metadata": {},
   "outputs": [],
   "source": [
    "dfTwo['SumCurrVol'] = dfTwo.groupby(['Collection Tier', 'Servicer'])['Current Volume'].transform('sum')"
   ]
  },
  {
   "cell_type": "markdown",
   "id": "b1584e77-1398-4e5b-9c3d-9e6cc5e79194",
   "metadata": {
    "jp-MarkdownHeadingCollapsed": true
   },
   "source": [
    "### Grouping Data on Collection Tier and YrMo"
   ]
  },
  {
   "cell_type": "code",
   "execution_count": 138,
   "id": "b170cef8-02a0-49ce-9858-2cc369ada22e",
   "metadata": {},
   "outputs": [],
   "source": [
    "groupList = []\n",
    "\n",
    "for tier_YrMo, group in dfTwo.groupby(['Collection Tier', 'Place YrMo']):\n",
    "\n",
    "    # Sorting grouped dataframe Descendingly\n",
    "\n",
    "    sorted_group = group.sort_values(by='Liq Rate', ascending=False)\n",
    "\n",
    "    # Gets Max Servicer name & maximum Liq Rate\n",
    "\n",
    "    MaxLiqRate = sorted_group.iloc[0, 6]\n",
    "    MaxLiqRateServicer = sorted_group.iloc[0, 1]\n",
    "\n",
    "    group['MaxLiqRateServicer'] = MaxLiqRateServicer\n",
    "    group['MaxLiqRate'] = MaxLiqRate\n",
    "\n",
    "    groupList.append(group)\n",
    "\n",
    "# Gets whole dataframe together\n",
    "\n",
    "dfTwo = pd.concat(groupList)"
   ]
  },
  {
   "cell_type": "code",
   "execution_count": 139,
   "id": "6fd79d51-4e73-44d4-978a-e5c95d9c37b1",
   "metadata": {},
   "outputs": [],
   "source": [
    "def DollarDeficit(row):\n",
    "\n",
    "    if row['SumCurrVol'] == 0: return 0\n",
    "\n",
    "    elif row['Servicer'] == row['MaxLiqRateServicer']: return 0\n",
    "\n",
    "    else: \n",
    "        \n",
    "        return (row['Balance'] * row['Liq Rate']) - (row['MaxLiqRate'] * row['Balance'])"
   ]
  },
  {
   "cell_type": "code",
   "execution_count": 140,
   "id": "de5be462-8b8c-468f-bdad-ca9f2efe46ff",
   "metadata": {},
   "outputs": [],
   "source": [
    "dfTwo['$ToLeader'] = dfTwo.apply(lambda x: DollarDeficit(x), axis = 1)"
   ]
  },
  {
   "cell_type": "markdown",
   "id": "d9caee55-7b01-447b-a221-0480befb4428",
   "metadata": {},
   "source": [
    "### Filter Required Months"
   ]
  },
  {
   "cell_type": "code",
   "execution_count": 141,
   "id": "cb29ae9e-b916-4efd-8c52-d32e1ac475a2",
   "metadata": {},
   "outputs": [],
   "source": [
    "dfTwo = dfTwo[dfTwo['Place YrMo'].isin(monthList1)]"
   ]
  },
  {
   "cell_type": "markdown",
   "id": "1180c4c9-dff9-463c-acbd-17440451be80",
   "metadata": {},
   "source": [
    "### Filtering UNI"
   ]
  },
  {
   "cell_type": "code",
   "execution_count": 142,
   "id": "fa8d36af-a9f9-4382-a01b-67ada7290377",
   "metadata": {},
   "outputs": [],
   "source": [
    "dfUNI = dfTwo[dfTwo['Servicer'] == 'UNI'][['Collection Tier', 'Place YrMo', '$ToLeader']]"
   ]
  },
  {
   "cell_type": "code",
   "execution_count": 143,
   "id": "8064b92b-96dc-4d1c-b1ff-c74a1d0e213e",
   "metadata": {},
   "outputs": [],
   "source": [
    "dfPivot2 = dfUNI.pivot(index='Collection Tier', columns='Place YrMo', values='$ToLeader')"
   ]
  },
  {
   "cell_type": "code",
   "execution_count": 144,
   "id": "08a09113-ef05-497a-b562-737b05ec4c39",
   "metadata": {},
   "outputs": [],
   "source": [
    "# Sorts dataframe according to tiers required\n",
    "\n",
    "dfTwoFinal = dfPivot2.reindex(tierList)"
   ]
  },
  {
   "cell_type": "code",
   "execution_count": 145,
   "id": "7afab024-f6e8-44f4-b8c8-32d6d03acf06",
   "metadata": {},
   "outputs": [],
   "source": [
    "dfTwoFinal.to_csv('Check2.csv')"
   ]
  },
  {
   "cell_type": "markdown",
   "id": "829a175b-dd94-4756-9375-79ecefa72652",
   "metadata": {
    "jp-MarkdownHeadingCollapsed": true
   },
   "source": [
    "# Dataframe Three (Ranking)"
   ]
  },
  {
   "cell_type": "markdown",
   "id": "89a11e6e-6d53-4fa6-8547-9b2f31ce6fcc",
   "metadata": {},
   "source": [
    "### Required Columns"
   ]
  },
  {
   "cell_type": "code",
   "execution_count": 385,
   "id": "8e160d18-f426-4c45-8779-769d647648e1",
   "metadata": {},
   "outputs": [],
   "source": [
    "col3 = ['Collection Tier', 'Servicer','Place YrMo', 'Accounts', 'Payer Rate']\n",
    "#        'Current Volume', 'Liq Rate']\n",
    "\n",
    "# Numeric Columns\n",
    "\n",
    "numeric3 = col3[3:]"
   ]
  },
  {
   "cell_type": "code",
   "execution_count": 386,
   "id": "76d9c99e-5fe8-4c5d-b1ad-ff808d0645ca",
   "metadata": {},
   "outputs": [],
   "source": [
    "dfThree = rawdf[col3]"
   ]
  },
  {
   "cell_type": "markdown",
   "id": "8f0dc698-8eaa-437d-9236-da7fda61c1cf",
   "metadata": {},
   "source": [
    "### Filters Required Tiers"
   ]
  },
  {
   "cell_type": "code",
   "execution_count": 387,
   "id": "af65d37c-f933-44ff-a9db-3853654764ae",
   "metadata": {},
   "outputs": [],
   "source": [
    "dfThree = dfThree[dfThree['Collection Tier'].isin(tierList)]"
   ]
  },
  {
   "cell_type": "markdown",
   "id": "78d5cb78-68fb-4d59-a8e6-4d846f36bb8b",
   "metadata": {},
   "source": [
    "### Filters Servicer"
   ]
  },
  {
   "cell_type": "code",
   "execution_count": 388,
   "id": "112ed428-17d0-49eb-94e8-9e59d8a1eb5a",
   "metadata": {},
   "outputs": [],
   "source": [
    "dfThree = dfThree[dfThree['Servicer'] != 'Total']"
   ]
  },
  {
   "cell_type": "markdown",
   "id": "eb4c096f-e53c-44ba-91eb-dc58366f8c47",
   "metadata": {},
   "source": [
    "### Filters Required Months"
   ]
  },
  {
   "cell_type": "code",
   "execution_count": 389,
   "id": "8495caaf-7088-42a1-92d1-27a3cc47a35f",
   "metadata": {},
   "outputs": [],
   "source": [
    "dfThree = dfThree[dfThree['Place YrMo'].isin(monthList14)]"
   ]
  },
  {
   "cell_type": "markdown",
   "id": "db06ad88-044c-4962-8416-bb4f5e700d09",
   "metadata": {},
   "source": [
    "### Monthly POB"
   ]
  },
  {
   "cell_type": "code",
   "execution_count": 390,
   "id": "77b6df47-cfc9-4dd9-a9b9-e7f64c8a37f7",
   "metadata": {},
   "outputs": [],
   "source": [
    "# Servicers in each Tier are being computed for each month\n",
    "# whoever has the maximum payer rate for that month gets 100% POB"
   ]
  },
  {
   "cell_type": "code",
   "execution_count": 391,
   "id": "9b1b461f-a035-4f35-9b01-3e3bcebcd9e4",
   "metadata": {},
   "outputs": [],
   "source": [
    "dfThree[numeric3] = dfThree[numeric3].apply(pd.to_numeric, errors='coerce', downcast='float')"
   ]
  },
  {
   "cell_type": "code",
   "execution_count": 392,
   "id": "18867dc7-e3e2-4c15-a2bf-29b123d3c5e3",
   "metadata": {},
   "outputs": [
    {
     "data": {
      "text/html": [
       "<div>\n",
       "<style scoped>\n",
       "    .dataframe tbody tr th:only-of-type {\n",
       "        vertical-align: middle;\n",
       "    }\n",
       "\n",
       "    .dataframe tbody tr th {\n",
       "        vertical-align: top;\n",
       "    }\n",
       "\n",
       "    .dataframe thead th {\n",
       "        text-align: right;\n",
       "    }\n",
       "</style>\n",
       "<table border=\"1\" class=\"dataframe\">\n",
       "  <thead>\n",
       "    <tr style=\"text-align: right;\">\n",
       "      <th></th>\n",
       "      <th>Collection Tier</th>\n",
       "      <th>Servicer</th>\n",
       "      <th>Place YrMo</th>\n",
       "      <th>Accounts</th>\n",
       "      <th>Payer Rate</th>\n",
       "    </tr>\n",
       "  </thead>\n",
       "  <tbody>\n",
       "    <tr>\n",
       "      <th>0</th>\n",
       "      <td>Auto Value Tier A</td>\n",
       "      <td>CCS</td>\n",
       "      <td>202210</td>\n",
       "      <td>1653.0</td>\n",
       "      <td>0.007864</td>\n",
       "    </tr>\n",
       "    <tr>\n",
       "      <th>1</th>\n",
       "      <td>Auto Value Tier A</td>\n",
       "      <td>CCS</td>\n",
       "      <td>202211</td>\n",
       "      <td>882.0</td>\n",
       "      <td>0.023810</td>\n",
       "    </tr>\n",
       "    <tr>\n",
       "      <th>2</th>\n",
       "      <td>Auto Value Tier A</td>\n",
       "      <td>CCS</td>\n",
       "      <td>202212</td>\n",
       "      <td>1270.0</td>\n",
       "      <td>0.006299</td>\n",
       "    </tr>\n",
       "    <tr>\n",
       "      <th>3</th>\n",
       "      <td>Auto Value Tier A</td>\n",
       "      <td>CCS</td>\n",
       "      <td>202301</td>\n",
       "      <td>1286.0</td>\n",
       "      <td>0.023328</td>\n",
       "    </tr>\n",
       "    <tr>\n",
       "      <th>4</th>\n",
       "      <td>Auto Value Tier A</td>\n",
       "      <td>CCS</td>\n",
       "      <td>202304</td>\n",
       "      <td>709.0</td>\n",
       "      <td>0.009873</td>\n",
       "    </tr>\n",
       "    <tr>\n",
       "      <th>...</th>\n",
       "      <td>...</td>\n",
       "      <td>...</td>\n",
       "      <td>...</td>\n",
       "      <td>...</td>\n",
       "      <td>...</td>\n",
       "    </tr>\n",
       "    <tr>\n",
       "      <th>1243</th>\n",
       "      <td>Value Tier G</td>\n",
       "      <td>UNI</td>\n",
       "      <td>202308</td>\n",
       "      <td>94787.0</td>\n",
       "      <td>0.000105</td>\n",
       "    </tr>\n",
       "    <tr>\n",
       "      <th>1244</th>\n",
       "      <td>Value Tier G</td>\n",
       "      <td>UNI</td>\n",
       "      <td>202309</td>\n",
       "      <td>31657.0</td>\n",
       "      <td>0.000063</td>\n",
       "    </tr>\n",
       "    <tr>\n",
       "      <th>1245</th>\n",
       "      <td>Value Tier G</td>\n",
       "      <td>UNI</td>\n",
       "      <td>202310</td>\n",
       "      <td>25110.0</td>\n",
       "      <td>0.000080</td>\n",
       "    </tr>\n",
       "    <tr>\n",
       "      <th>1246</th>\n",
       "      <td>Value Tier G</td>\n",
       "      <td>UNI</td>\n",
       "      <td>202311</td>\n",
       "      <td>68.0</td>\n",
       "      <td>0.000000</td>\n",
       "    </tr>\n",
       "    <tr>\n",
       "      <th>1247</th>\n",
       "      <td>Value Tier G</td>\n",
       "      <td>VIP</td>\n",
       "      <td>202211</td>\n",
       "      <td>66620.0</td>\n",
       "      <td>0.000075</td>\n",
       "    </tr>\n",
       "  </tbody>\n",
       "</table>\n",
       "<p>721 rows × 5 columns</p>\n",
       "</div>"
      ],
      "text/plain": [
       "        Collection Tier Servicer Place YrMo  Accounts  Payer Rate\n",
       "0     Auto Value Tier A      CCS     202210    1653.0    0.007864\n",
       "1     Auto Value Tier A      CCS     202211     882.0    0.023810\n",
       "2     Auto Value Tier A      CCS     202212    1270.0    0.006299\n",
       "3     Auto Value Tier A      CCS     202301    1286.0    0.023328\n",
       "4     Auto Value Tier A      CCS     202304     709.0    0.009873\n",
       "...                 ...      ...        ...       ...         ...\n",
       "1243       Value Tier G      UNI     202308   94787.0    0.000105\n",
       "1244       Value Tier G      UNI     202309   31657.0    0.000063\n",
       "1245       Value Tier G      UNI     202310   25110.0    0.000080\n",
       "1246       Value Tier G      UNI     202311      68.0    0.000000\n",
       "1247       Value Tier G      VIP     202211   66620.0    0.000075\n",
       "\n",
       "[721 rows x 5 columns]"
      ]
     },
     "execution_count": 392,
     "metadata": {},
     "output_type": "execute_result"
    }
   ],
   "source": [
    "dfThree"
   ]
  },
  {
   "cell_type": "code",
   "execution_count": 393,
   "id": "4efe8e8f-0b89-4468-b676-f718b66dfc1a",
   "metadata": {},
   "outputs": [],
   "source": [
    "groupList3 = []\n",
    "\n",
    "for tier_YrMo, group in dfThree.groupby(['Collection Tier', 'Place YrMo']):\n",
    "\n",
    "    # Sorting grouped dataframe Descendingly\n",
    "\n",
    "    sorted_group = group.sort_values(by='Payer Rate', ascending=False)\n",
    "\n",
    "    # Gets Max Payer Rate\n",
    "\n",
    "    MaxPayRate = sorted_group.iloc[0, 4]\n",
    "\n",
    "    group['MonthlyPOB'] = group['Payer Rate'] / MaxPayRate\n",
    "\n",
    "    group['MonthlyPOB'] = group['MonthlyPOB'].replace([np.inf, -np.inf, np.nan], 0)\n",
    "\n",
    "    groupList3.append(group)\n",
    "\n",
    "# Gets whole dataframe together\n",
    "\n",
    "dfThree = pd.concat(groupList3)"
   ]
  },
  {
   "cell_type": "markdown",
   "id": "0eaf95ae-e5eb-48d2-a733-e022e67f84c4",
   "metadata": {},
   "source": [
    "### Servicer Avg POB (Last 14 months)"
   ]
  },
  {
   "cell_type": "code",
   "execution_count": 394,
   "id": "a204984c-af18-475e-b026-669e35ff83eb",
   "metadata": {},
   "outputs": [],
   "source": [
    "# For Last 14 months mean of POB is calculated, If a servicer \n",
    "# is has payer rate for last 14 months consecutively\n",
    "# that servicer will get 100% Average. (Ideal case)"
   ]
  },
  {
   "cell_type": "code",
   "execution_count": 395,
   "id": "219aacc1-5a6e-4c78-ab99-85d4bd1575ef",
   "metadata": {},
   "outputs": [],
   "source": [
    "dfThree = dfThree.groupby(['Collection Tier', 'Servicer']).agg({'MonthlyPOB':'mean'}).reset_index()"
   ]
  },
  {
   "cell_type": "code",
   "execution_count": 396,
   "id": "679340ab-afb1-4a6c-afce-9e4aea35c204",
   "metadata": {},
   "outputs": [],
   "source": [
    "dfThree.rename(columns = {'MonthlyPOB':'ServiceAvgPOB'}, inplace=True)"
   ]
  },
  {
   "cell_type": "markdown",
   "id": "e3516664-b056-481a-8fc8-f43b1cf8dc15",
   "metadata": {},
   "source": [
    "### Payer Rate %"
   ]
  },
  {
   "cell_type": "code",
   "execution_count": 397,
   "id": "cc8ec5b5-9229-406f-a8be-657368f1237d",
   "metadata": {},
   "outputs": [],
   "source": [
    "groupList3 = []\n",
    "\n",
    "for tier, group in dfThree.groupby(['Collection Tier']):\n",
    "\n",
    "    MaxAvgPOB = group['ServiceAvgPOB'].max()\n",
    "\n",
    "    group['Payer Rate %'] = group['ServiceAvgPOB'] / MaxAvgPOB\n",
    "\n",
    "    groupList3.append(group)\n",
    "\n",
    "# Gets whole dataframe together\n",
    "\n",
    "dfThree = pd.concat(groupList3)"
   ]
  },
  {
   "cell_type": "code",
   "execution_count": 398,
   "id": "054c8dd1-b12f-4fac-8a6e-23cb734c9c7e",
   "metadata": {},
   "outputs": [],
   "source": [
    "dfThree = dfThree[dfThree['Servicer'] == 'UNI']"
   ]
  },
  {
   "cell_type": "code",
   "execution_count": 399,
   "id": "ad9470f0-4933-40cf-ba74-686ae7740e76",
   "metadata": {},
   "outputs": [],
   "source": [
    "dfThree = dfThree.drop(columns=['Servicer', 'ServiceAvgPOB'])"
   ]
  },
  {
   "cell_type": "code",
   "execution_count": 400,
   "id": "906c5550-303a-48bc-a051-6a11ccfdcf38",
   "metadata": {},
   "outputs": [],
   "source": [
    "# Sorts dataframe according to tiers required\n",
    "\n",
    "dfThree.set_index('Collection Tier', inplace=True)"
   ]
  },
  {
   "cell_type": "code",
   "execution_count": 401,
   "id": "008d3f13-8375-466a-97a8-7f5901b443af",
   "metadata": {},
   "outputs": [],
   "source": [
    "dfThreeFinal = dfThree.reindex(tierList)"
   ]
  },
  {
   "cell_type": "code",
   "execution_count": 402,
   "id": "68af1508-29ea-4615-808e-8e3b73f389cd",
   "metadata": {},
   "outputs": [
    {
     "data": {
      "text/html": [
       "<div>\n",
       "<style scoped>\n",
       "    .dataframe tbody tr th:only-of-type {\n",
       "        vertical-align: middle;\n",
       "    }\n",
       "\n",
       "    .dataframe tbody tr th {\n",
       "        vertical-align: top;\n",
       "    }\n",
       "\n",
       "    .dataframe thead th {\n",
       "        text-align: right;\n",
       "    }\n",
       "</style>\n",
       "<table border=\"1\" class=\"dataframe\">\n",
       "  <thead>\n",
       "    <tr style=\"text-align: right;\">\n",
       "      <th></th>\n",
       "      <th>Payer Rate %</th>\n",
       "    </tr>\n",
       "    <tr>\n",
       "      <th>Collection Tier</th>\n",
       "      <th></th>\n",
       "    </tr>\n",
       "  </thead>\n",
       "  <tbody>\n",
       "    <tr>\n",
       "      <th>Dismissed Bankruptcy Prime</th>\n",
       "      <td>1.000000</td>\n",
       "    </tr>\n",
       "    <tr>\n",
       "      <th>Value Tier A+</th>\n",
       "      <td>0.924843</td>\n",
       "    </tr>\n",
       "    <tr>\n",
       "      <th>Value Tier A</th>\n",
       "      <td>0.899578</td>\n",
       "    </tr>\n",
       "    <tr>\n",
       "      <th>Value Tier B</th>\n",
       "      <td>0.807935</td>\n",
       "    </tr>\n",
       "    <tr>\n",
       "      <th>Value Tier C</th>\n",
       "      <td>0.634452</td>\n",
       "    </tr>\n",
       "    <tr>\n",
       "      <th>Value Tier D</th>\n",
       "      <td>0.568010</td>\n",
       "    </tr>\n",
       "    <tr>\n",
       "      <th>Value Tier E</th>\n",
       "      <td>0.515401</td>\n",
       "    </tr>\n",
       "    <tr>\n",
       "      <th>Value Tier F</th>\n",
       "      <td>0.565051</td>\n",
       "    </tr>\n",
       "    <tr>\n",
       "      <th>Value Tier G</th>\n",
       "      <td>0.333062</td>\n",
       "    </tr>\n",
       "    <tr>\n",
       "      <th>Spanish Value Tier A</th>\n",
       "      <td>0.883121</td>\n",
       "    </tr>\n",
       "    <tr>\n",
       "      <th>Spanish Value Tier B</th>\n",
       "      <td>0.732124</td>\n",
       "    </tr>\n",
       "    <tr>\n",
       "      <th>Spanish Value Tier C</th>\n",
       "      <td>0.489426</td>\n",
       "    </tr>\n",
       "    <tr>\n",
       "      <th>Auto Value Tier A</th>\n",
       "      <td>1.000000</td>\n",
       "    </tr>\n",
       "    <tr>\n",
       "      <th>Auto Value Tier B</th>\n",
       "      <td>0.725179</td>\n",
       "    </tr>\n",
       "    <tr>\n",
       "      <th>Auto Value Tier C</th>\n",
       "      <td>0.567598</td>\n",
       "    </tr>\n",
       "    <tr>\n",
       "      <th>Auto Value Tier D</th>\n",
       "      <td>1.000000</td>\n",
       "    </tr>\n",
       "    <tr>\n",
       "      <th>Auto Value Tier E</th>\n",
       "      <td>0.714241</td>\n",
       "    </tr>\n",
       "    <tr>\n",
       "      <th>Sallie Mae 1</th>\n",
       "      <td>1.000000</td>\n",
       "    </tr>\n",
       "    <tr>\n",
       "      <th>Sallie Mae 2</th>\n",
       "      <td>1.000000</td>\n",
       "    </tr>\n",
       "  </tbody>\n",
       "</table>\n",
       "</div>"
      ],
      "text/plain": [
       "                            Payer Rate %\n",
       "Collection Tier                         \n",
       "Dismissed Bankruptcy Prime      1.000000\n",
       "Value Tier A+                   0.924843\n",
       "Value Tier A                    0.899578\n",
       "Value Tier B                    0.807935\n",
       "Value Tier C                    0.634452\n",
       "Value Tier D                    0.568010\n",
       "Value Tier E                    0.515401\n",
       "Value Tier F                    0.565051\n",
       "Value Tier G                    0.333062\n",
       "Spanish Value Tier A            0.883121\n",
       "Spanish Value Tier B            0.732124\n",
       "Spanish Value Tier C            0.489426\n",
       "Auto Value Tier A               1.000000\n",
       "Auto Value Tier B               0.725179\n",
       "Auto Value Tier C               0.567598\n",
       "Auto Value Tier D               1.000000\n",
       "Auto Value Tier E               0.714241\n",
       "Sallie Mae 1                    1.000000\n",
       "Sallie Mae 2                    1.000000"
      ]
     },
     "execution_count": 402,
     "metadata": {},
     "output_type": "execute_result"
    }
   ],
   "source": [
    "dfThreeFinal"
   ]
  },
  {
   "cell_type": "markdown",
   "id": "97b1ae5d-f9d8-4fba-82dd-f2efe2b3d62a",
   "metadata": {
    "jp-MarkdownHeadingCollapsed": true
   },
   "source": [
    "# Dataframe Four (CLIQ To Leader)"
   ]
  },
  {
   "cell_type": "code",
   "execution_count": 268,
   "id": "43a4b8e8-f7d8-484e-9da3-42ce348301fe",
   "metadata": {},
   "outputs": [],
   "source": [
    "col4 = ['Collection Tier', 'Servicer','Place YrMo', 'Balance', 'Liq Rate']\n",
    "\n",
    "# Numeric Columns\n",
    "\n",
    "numeric4 = col4[3:]"
   ]
  },
  {
   "cell_type": "code",
   "execution_count": 270,
   "id": "5d14d09d-e120-4d59-9651-e48a2ad70a7f",
   "metadata": {},
   "outputs": [],
   "source": [
    "dfFour = rawdf[col4]"
   ]
  },
  {
   "cell_type": "markdown",
   "id": "0be8608b-bf46-440b-a8bd-3a2a69b985bc",
   "metadata": {},
   "source": [
    "### Filters Required Months"
   ]
  },
  {
   "cell_type": "code",
   "execution_count": 271,
   "id": "8cbfe7f4-6c98-43f6-87c8-4a534cdd33e2",
   "metadata": {},
   "outputs": [],
   "source": [
    "dfFour = dfFour[dfFour['Place YrMo'].isin(monthList6)]"
   ]
  },
  {
   "cell_type": "markdown",
   "id": "bc8dfce8-607e-4f14-82d8-27fed3ffeafe",
   "metadata": {},
   "source": [
    "### Filters Servicer"
   ]
  },
  {
   "cell_type": "code",
   "execution_count": 272,
   "id": "cffa8980-8766-4cdf-8a0f-f5f727f78001",
   "metadata": {},
   "outputs": [],
   "source": [
    "dfFour = dfFour[dfFour['Servicer'] != 'Total']"
   ]
  },
  {
   "cell_type": "code",
   "execution_count": 273,
   "id": "f1539daa-cecd-4fa8-87c9-df41a854bfc3",
   "metadata": {},
   "outputs": [],
   "source": [
    "dfFour[numeric4] = dfFour[numeric4].apply(pd.to_numeric, errors='coerce', downcast='float')"
   ]
  },
  {
   "cell_type": "code",
   "execution_count": 274,
   "id": "b887f70e-3422-4edd-a2f5-432d9f6e2f82",
   "metadata": {},
   "outputs": [],
   "source": [
    "dfFour['Liq Amount'] = dfFour['Balance'] * dfFour['Liq Rate']"
   ]
  },
  {
   "cell_type": "code",
   "execution_count": 275,
   "id": "18bd4177-ad98-4485-b8bc-1c629f303fcc",
   "metadata": {},
   "outputs": [],
   "source": [
    "dfFour = dfFour.groupby(['Collection Tier', 'Servicer']).agg({'Balance':'sum', 'Liq Amount':'sum'}).reset_index()"
   ]
  },
  {
   "cell_type": "code",
   "execution_count": 276,
   "id": "1b8db33e-1fe0-444a-a30b-73255c8c301a",
   "metadata": {},
   "outputs": [],
   "source": [
    "dfFour['Cliq'] = dfFour['Liq Amount'] / dfFour['Balance']"
   ]
  },
  {
   "cell_type": "code",
   "execution_count": 292,
   "id": "ad6117a8-0a13-401a-9b73-96e773d5e1d9",
   "metadata": {},
   "outputs": [],
   "source": [
    "groupList4 = []\n",
    "\n",
    "for tier, group in dfFour.groupby(['Collection Tier']):\n",
    "\n",
    "    MaxCliq = group['Cliq'].max()\n",
    "\n",
    "    SecondMaxCliq = group['Cliq'][group['Cliq'] < MaxCliq].max()\n",
    "\n",
    "    group['Cliq To Leader'] = group['Cliq'] / MaxCliq\n",
    "\n",
    "    group['Rank'] = group['Cliq'].rank(ascending=False).astype('int')\n",
    "\n",
    "    group['2nd Max Cliq to Leader'] = group['Rank'].apply(lambda x: SecondMaxCliq / MaxCliq if x == 1 else None) \n",
    "\n",
    "    group['Total Servicer'] = group['Rank'].max()\n",
    "\n",
    "    group['Rank (/)'] = group['Rank'].astype('str') + '/' + group['Total Servicer'].astype('str')\n",
    "\n",
    "    groupList4.append(group)\n",
    "\n",
    "# Gets whole dataframe together\n",
    "\n",
    "dfFour = pd.concat(groupList4)"
   ]
  },
  {
   "cell_type": "code",
   "execution_count": 293,
   "id": "63be3313-e070-4966-a241-6a25d7b3adbb",
   "metadata": {},
   "outputs": [
    {
     "data": {
      "text/html": [
       "<div>\n",
       "<style scoped>\n",
       "    .dataframe tbody tr th:only-of-type {\n",
       "        vertical-align: middle;\n",
       "    }\n",
       "\n",
       "    .dataframe tbody tr th {\n",
       "        vertical-align: top;\n",
       "    }\n",
       "\n",
       "    .dataframe thead th {\n",
       "        text-align: right;\n",
       "    }\n",
       "</style>\n",
       "<table border=\"1\" class=\"dataframe\">\n",
       "  <thead>\n",
       "    <tr style=\"text-align: right;\">\n",
       "      <th></th>\n",
       "      <th>Collection Tier</th>\n",
       "      <th>Servicer</th>\n",
       "      <th>Balance</th>\n",
       "      <th>Liq Amount</th>\n",
       "      <th>Cliq</th>\n",
       "      <th>Cliq To Leader</th>\n",
       "      <th>2nd Max Cliq to Leader</th>\n",
       "      <th>Rank</th>\n",
       "      <th>Total Servicer</th>\n",
       "      <th>Rank (/)</th>\n",
       "    </tr>\n",
       "  </thead>\n",
       "  <tbody>\n",
       "    <tr>\n",
       "      <th>0</th>\n",
       "      <td>Auto Value Tier A</td>\n",
       "      <td>CCS</td>\n",
       "      <td>6.555289e+07</td>\n",
       "      <td>83066.969783</td>\n",
       "      <td>0.001267</td>\n",
       "      <td>0.679524</td>\n",
       "      <td>NaN</td>\n",
       "      <td>2</td>\n",
       "      <td>5</td>\n",
       "      <td>2/5</td>\n",
       "    </tr>\n",
       "    <tr>\n",
       "      <th>1</th>\n",
       "      <td>Auto Value Tier A</td>\n",
       "      <td>FBS</td>\n",
       "      <td>8.790899e+07</td>\n",
       "      <td>104976.647092</td>\n",
       "      <td>0.001194</td>\n",
       "      <td>0.640365</td>\n",
       "      <td>NaN</td>\n",
       "      <td>4</td>\n",
       "      <td>5</td>\n",
       "      <td>4/5</td>\n",
       "    </tr>\n",
       "    <tr>\n",
       "      <th>2</th>\n",
       "      <td>Auto Value Tier A</td>\n",
       "      <td>JEF</td>\n",
       "      <td>9.352060e+07</td>\n",
       "      <td>111857.181909</td>\n",
       "      <td>0.001196</td>\n",
       "      <td>0.641394</td>\n",
       "      <td>NaN</td>\n",
       "      <td>3</td>\n",
       "      <td>5</td>\n",
       "      <td>3/5</td>\n",
       "    </tr>\n",
       "    <tr>\n",
       "      <th>3</th>\n",
       "      <td>Auto Value Tier A</td>\n",
       "      <td>SCI</td>\n",
       "      <td>1.010358e+08</td>\n",
       "      <td>117316.347826</td>\n",
       "      <td>0.001161</td>\n",
       "      <td>0.622661</td>\n",
       "      <td>NaN</td>\n",
       "      <td>5</td>\n",
       "      <td>5</td>\n",
       "      <td>5/5</td>\n",
       "    </tr>\n",
       "    <tr>\n",
       "      <th>4</th>\n",
       "      <td>Auto Value Tier A</td>\n",
       "      <td>UNI</td>\n",
       "      <td>1.569399e+08</td>\n",
       "      <td>292661.067554</td>\n",
       "      <td>0.001865</td>\n",
       "      <td>1.000000</td>\n",
       "      <td>0.679524</td>\n",
       "      <td>1</td>\n",
       "      <td>5</td>\n",
       "      <td>1/5</td>\n",
       "    </tr>\n",
       "    <tr>\n",
       "      <th>...</th>\n",
       "      <td>...</td>\n",
       "      <td>...</td>\n",
       "      <td>...</td>\n",
       "      <td>...</td>\n",
       "      <td>...</td>\n",
       "      <td>...</td>\n",
       "      <td>...</td>\n",
       "      <td>...</td>\n",
       "      <td>...</td>\n",
       "      <td>...</td>\n",
       "    </tr>\n",
       "    <tr>\n",
       "      <th>88</th>\n",
       "      <td>Value Tiers C &amp; D</td>\n",
       "      <td>UNI</td>\n",
       "      <td>4.934703e+08</td>\n",
       "      <td>716413.871957</td>\n",
       "      <td>0.001452</td>\n",
       "      <td>0.914497</td>\n",
       "      <td>NaN</td>\n",
       "      <td>2</td>\n",
       "      <td>2</td>\n",
       "      <td>2/2</td>\n",
       "    </tr>\n",
       "    <tr>\n",
       "      <th>89</th>\n",
       "      <td>Value Tiers E &amp; F</td>\n",
       "      <td>JEF</td>\n",
       "      <td>7.678649e+08</td>\n",
       "      <td>383407.839173</td>\n",
       "      <td>0.000499</td>\n",
       "      <td>1.000000</td>\n",
       "      <td>0.892949</td>\n",
       "      <td>1</td>\n",
       "      <td>4</td>\n",
       "      <td>1/4</td>\n",
       "    </tr>\n",
       "    <tr>\n",
       "      <th>90</th>\n",
       "      <td>Value Tiers E &amp; F</td>\n",
       "      <td>MAB</td>\n",
       "      <td>1.537217e+08</td>\n",
       "      <td>34131.570952</td>\n",
       "      <td>0.000222</td>\n",
       "      <td>0.444677</td>\n",
       "      <td>NaN</td>\n",
       "      <td>3</td>\n",
       "      <td>4</td>\n",
       "      <td>3/4</td>\n",
       "    </tr>\n",
       "    <tr>\n",
       "      <th>91</th>\n",
       "      <td>Value Tiers E &amp; F</td>\n",
       "      <td>SCI</td>\n",
       "      <td>1.559853e+08</td>\n",
       "      <td>30080.469432</td>\n",
       "      <td>0.000193</td>\n",
       "      <td>0.386211</td>\n",
       "      <td>NaN</td>\n",
       "      <td>4</td>\n",
       "      <td>4</td>\n",
       "      <td>4/4</td>\n",
       "    </tr>\n",
       "    <tr>\n",
       "      <th>92</th>\n",
       "      <td>Value Tiers E &amp; F</td>\n",
       "      <td>UNI</td>\n",
       "      <td>1.758144e+08</td>\n",
       "      <td>78389.411776</td>\n",
       "      <td>0.000446</td>\n",
       "      <td>0.892949</td>\n",
       "      <td>NaN</td>\n",
       "      <td>2</td>\n",
       "      <td>4</td>\n",
       "      <td>2/4</td>\n",
       "    </tr>\n",
       "  </tbody>\n",
       "</table>\n",
       "<p>93 rows × 10 columns</p>\n",
       "</div>"
      ],
      "text/plain": [
       "      Collection Tier Servicer       Balance     Liq Amount      Cliq  \\\n",
       "0   Auto Value Tier A      CCS  6.555289e+07   83066.969783  0.001267   \n",
       "1   Auto Value Tier A      FBS  8.790899e+07  104976.647092  0.001194   \n",
       "2   Auto Value Tier A      JEF  9.352060e+07  111857.181909  0.001196   \n",
       "3   Auto Value Tier A      SCI  1.010358e+08  117316.347826  0.001161   \n",
       "4   Auto Value Tier A      UNI  1.569399e+08  292661.067554  0.001865   \n",
       "..                ...      ...           ...            ...       ...   \n",
       "88  Value Tiers C & D      UNI  4.934703e+08  716413.871957  0.001452   \n",
       "89  Value Tiers E & F      JEF  7.678649e+08  383407.839173  0.000499   \n",
       "90  Value Tiers E & F      MAB  1.537217e+08   34131.570952  0.000222   \n",
       "91  Value Tiers E & F      SCI  1.559853e+08   30080.469432  0.000193   \n",
       "92  Value Tiers E & F      UNI  1.758144e+08   78389.411776  0.000446   \n",
       "\n",
       "    Cliq To Leader  2nd Max Cliq to Leader  Rank  Total Servicer Rank (/)  \n",
       "0         0.679524                     NaN     2               5      2/5  \n",
       "1         0.640365                     NaN     4               5      4/5  \n",
       "2         0.641394                     NaN     3               5      3/5  \n",
       "3         0.622661                     NaN     5               5      5/5  \n",
       "4         1.000000                0.679524     1               5      1/5  \n",
       "..             ...                     ...   ...             ...      ...  \n",
       "88        0.914497                     NaN     2               2      2/2  \n",
       "89        1.000000                0.892949     1               4      1/4  \n",
       "90        0.444677                     NaN     3               4      3/4  \n",
       "91        0.386211                     NaN     4               4      4/4  \n",
       "92        0.892949                     NaN     2               4      2/4  \n",
       "\n",
       "[93 rows x 10 columns]"
      ]
     },
     "execution_count": 293,
     "metadata": {},
     "output_type": "execute_result"
    }
   ],
   "source": [
    "dfFour"
   ]
  },
  {
   "cell_type": "code",
   "execution_count": 294,
   "id": "20954aaa-0185-49bf-84e6-9809f4b942f3",
   "metadata": {},
   "outputs": [],
   "source": [
    "dfFour = dfFour[dfFour['Servicer'] == 'UNI']"
   ]
  },
  {
   "cell_type": "code",
   "execution_count": 295,
   "id": "68392bba-58fd-4dff-a65a-2227dbb2dfb9",
   "metadata": {},
   "outputs": [],
   "source": [
    "dfFour.set_index('Collection Tier', inplace=True)"
   ]
  },
  {
   "cell_type": "code",
   "execution_count": 296,
   "id": "38906fd1-14df-4a19-a438-96a9288662d0",
   "metadata": {},
   "outputs": [],
   "source": [
    "dfFourFinal = dfFour[['Rank (/)', 'Cliq To Leader', '2nd Max Cliq to Leader']].reindex(tierList)"
   ]
  },
  {
   "cell_type": "code",
   "execution_count": 297,
   "id": "79c4b96c-163c-4ed6-88e0-597e3e761dae",
   "metadata": {},
   "outputs": [
    {
     "data": {
      "text/html": [
       "<div>\n",
       "<style scoped>\n",
       "    .dataframe tbody tr th:only-of-type {\n",
       "        vertical-align: middle;\n",
       "    }\n",
       "\n",
       "    .dataframe tbody tr th {\n",
       "        vertical-align: top;\n",
       "    }\n",
       "\n",
       "    .dataframe thead th {\n",
       "        text-align: right;\n",
       "    }\n",
       "</style>\n",
       "<table border=\"1\" class=\"dataframe\">\n",
       "  <thead>\n",
       "    <tr style=\"text-align: right;\">\n",
       "      <th></th>\n",
       "      <th>Rank (/)</th>\n",
       "      <th>Cliq To Leader</th>\n",
       "      <th>2nd Max Cliq to Leader</th>\n",
       "    </tr>\n",
       "    <tr>\n",
       "      <th>Collection Tier</th>\n",
       "      <th></th>\n",
       "      <th></th>\n",
       "      <th></th>\n",
       "    </tr>\n",
       "  </thead>\n",
       "  <tbody>\n",
       "    <tr>\n",
       "      <th>Dismissed Bankruptcy Prime</th>\n",
       "      <td>1/1</td>\n",
       "      <td>1.000000</td>\n",
       "      <td>NaN</td>\n",
       "    </tr>\n",
       "    <tr>\n",
       "      <th>Value Tier A+</th>\n",
       "      <td>2/3</td>\n",
       "      <td>0.996091</td>\n",
       "      <td>NaN</td>\n",
       "    </tr>\n",
       "    <tr>\n",
       "      <th>Value Tier A</th>\n",
       "      <td>2/3</td>\n",
       "      <td>0.989747</td>\n",
       "      <td>NaN</td>\n",
       "    </tr>\n",
       "    <tr>\n",
       "      <th>Value Tier B</th>\n",
       "      <td>2/3</td>\n",
       "      <td>0.976021</td>\n",
       "      <td>NaN</td>\n",
       "    </tr>\n",
       "    <tr>\n",
       "      <th>Value Tier C</th>\n",
       "      <td>2/2</td>\n",
       "      <td>0.913710</td>\n",
       "      <td>NaN</td>\n",
       "    </tr>\n",
       "    <tr>\n",
       "      <th>Value Tier D</th>\n",
       "      <td>2/2</td>\n",
       "      <td>0.915055</td>\n",
       "      <td>NaN</td>\n",
       "    </tr>\n",
       "    <tr>\n",
       "      <th>Value Tier E</th>\n",
       "      <td>2/4</td>\n",
       "      <td>0.844474</td>\n",
       "      <td>NaN</td>\n",
       "    </tr>\n",
       "    <tr>\n",
       "      <th>Value Tier F</th>\n",
       "      <td>2/4</td>\n",
       "      <td>0.988993</td>\n",
       "      <td>NaN</td>\n",
       "    </tr>\n",
       "    <tr>\n",
       "      <th>Value Tier G</th>\n",
       "      <td>3/3</td>\n",
       "      <td>0.467989</td>\n",
       "      <td>NaN</td>\n",
       "    </tr>\n",
       "    <tr>\n",
       "      <th>Spanish Value Tier A</th>\n",
       "      <td>1/2</td>\n",
       "      <td>1.000000</td>\n",
       "      <td>0.990839</td>\n",
       "    </tr>\n",
       "    <tr>\n",
       "      <th>Spanish Value Tier B</th>\n",
       "      <td>2/2</td>\n",
       "      <td>0.872007</td>\n",
       "      <td>NaN</td>\n",
       "    </tr>\n",
       "    <tr>\n",
       "      <th>Spanish Value Tier C</th>\n",
       "      <td>2/2</td>\n",
       "      <td>0.496467</td>\n",
       "      <td>NaN</td>\n",
       "    </tr>\n",
       "    <tr>\n",
       "      <th>Auto Value Tier A</th>\n",
       "      <td>1/5</td>\n",
       "      <td>1.000000</td>\n",
       "      <td>0.679524</td>\n",
       "    </tr>\n",
       "    <tr>\n",
       "      <th>Auto Value Tier B</th>\n",
       "      <td>5/5</td>\n",
       "      <td>0.549289</td>\n",
       "      <td>NaN</td>\n",
       "    </tr>\n",
       "    <tr>\n",
       "      <th>Auto Value Tier C</th>\n",
       "      <td>1/4</td>\n",
       "      <td>1.000000</td>\n",
       "      <td>0.721401</td>\n",
       "    </tr>\n",
       "    <tr>\n",
       "      <th>Auto Value Tier D</th>\n",
       "      <td>1/3</td>\n",
       "      <td>1.000000</td>\n",
       "      <td>0.471935</td>\n",
       "    </tr>\n",
       "    <tr>\n",
       "      <th>Auto Value Tier E</th>\n",
       "      <td>2/3</td>\n",
       "      <td>0.186313</td>\n",
       "      <td>NaN</td>\n",
       "    </tr>\n",
       "    <tr>\n",
       "      <th>Sallie Mae 1</th>\n",
       "      <td>2/3</td>\n",
       "      <td>0.530223</td>\n",
       "      <td>NaN</td>\n",
       "    </tr>\n",
       "    <tr>\n",
       "      <th>Sallie Mae 2</th>\n",
       "      <td>1/3</td>\n",
       "      <td>1.000000</td>\n",
       "      <td>0.691643</td>\n",
       "    </tr>\n",
       "  </tbody>\n",
       "</table>\n",
       "</div>"
      ],
      "text/plain": [
       "                           Rank (/)  Cliq To Leader  2nd Max Cliq to Leader\n",
       "Collection Tier                                                            \n",
       "Dismissed Bankruptcy Prime      1/1        1.000000                     NaN\n",
       "Value Tier A+                   2/3        0.996091                     NaN\n",
       "Value Tier A                    2/3        0.989747                     NaN\n",
       "Value Tier B                    2/3        0.976021                     NaN\n",
       "Value Tier C                    2/2        0.913710                     NaN\n",
       "Value Tier D                    2/2        0.915055                     NaN\n",
       "Value Tier E                    2/4        0.844474                     NaN\n",
       "Value Tier F                    2/4        0.988993                     NaN\n",
       "Value Tier G                    3/3        0.467989                     NaN\n",
       "Spanish Value Tier A            1/2        1.000000                0.990839\n",
       "Spanish Value Tier B            2/2        0.872007                     NaN\n",
       "Spanish Value Tier C            2/2        0.496467                     NaN\n",
       "Auto Value Tier A               1/5        1.000000                0.679524\n",
       "Auto Value Tier B               5/5        0.549289                     NaN\n",
       "Auto Value Tier C               1/4        1.000000                0.721401\n",
       "Auto Value Tier D               1/3        1.000000                0.471935\n",
       "Auto Value Tier E               2/3        0.186313                     NaN\n",
       "Sallie Mae 1                    2/3        0.530223                     NaN\n",
       "Sallie Mae 2                    1/3        1.000000                0.691643"
      ]
     },
     "execution_count": 297,
     "metadata": {},
     "output_type": "execute_result"
    }
   ],
   "source": [
    "dfFourFinal"
   ]
  },
  {
   "cell_type": "markdown",
   "id": "cc2da958-60ae-4029-9898-b8b734ad3de3",
   "metadata": {
    "jp-MarkdownHeadingCollapsed": true
   },
   "source": [
    "# Dataframe Five (Inc. To Leader)"
   ]
  },
  {
   "cell_type": "code",
   "execution_count": 612,
   "id": "c7ae24a6-04ff-4a64-a3ea-f73940c21089",
   "metadata": {},
   "outputs": [],
   "source": [
    "liqCols = [f'Liq Rate {i}' for i in range(14)]"
   ]
  },
  {
   "cell_type": "code",
   "execution_count": 613,
   "id": "1090c6c8-c653-49b2-96e5-ab83c2f1cf12",
   "metadata": {},
   "outputs": [],
   "source": [
    "otherCols = ['Collection Tier', 'Servicer','Place YrMo', 'Accounts', 'Balance']\n",
    "\n",
    "col5 =  otherCols + liqCols\n",
    "\n",
    "# Numeric Columns\n",
    "\n",
    "numeric5 = col5[4:]"
   ]
  },
  {
   "cell_type": "code",
   "execution_count": 614,
   "id": "d7ec5b08-4d6c-43f2-8400-2c3737bca17e",
   "metadata": {},
   "outputs": [],
   "source": [
    "dfFive = rawdf[col5]"
   ]
  },
  {
   "cell_type": "code",
   "execution_count": 615,
   "id": "6925db7a-8774-4888-b857-60796a24ad87",
   "metadata": {},
   "outputs": [
    {
     "name": "stderr",
     "output_type": "stream",
     "text": [
      "C:\\Users\\MAQ\\AppData\\Local\\Temp\\ipykernel_16636\\4218597205.py:1: SettingWithCopyWarning: \n",
      "A value is trying to be set on a copy of a slice from a DataFrame.\n",
      "Try using .loc[row_indexer,col_indexer] = value instead\n",
      "\n",
      "See the caveats in the documentation: https://pandas.pydata.org/pandas-docs/stable/user_guide/indexing.html#returning-a-view-versus-a-copy\n",
      "  dfFive[numeric5] = dfFive[numeric5].apply(pd.to_numeric, errors='coerce', downcast='float')\n"
     ]
    }
   ],
   "source": [
    "dfFive[numeric5] = dfFive[numeric5].apply(pd.to_numeric, errors='coerce', downcast='float')"
   ]
  },
  {
   "cell_type": "markdown",
   "id": "04954535-9298-436d-9b8e-92414ea56172",
   "metadata": {},
   "source": [
    "### Filters Required Months"
   ]
  },
  {
   "cell_type": "code",
   "execution_count": 616,
   "id": "667becf6-c5e9-4dad-8e47-06a684c06188",
   "metadata": {},
   "outputs": [],
   "source": [
    "dfFive6Months = dfFive[dfFive['Place YrMo'].isin(monthList6)]"
   ]
  },
  {
   "cell_type": "markdown",
   "id": "a228fece-e42a-494b-a127-314ee8d246d4",
   "metadata": {},
   "source": [
    "### 6 Month Accounts sum of Total"
   ]
  },
  {
   "cell_type": "code",
   "execution_count": 617,
   "id": "0f1ccad9-b733-46e8-8301-7d72c856294a",
   "metadata": {},
   "outputs": [
    {
     "name": "stderr",
     "output_type": "stream",
     "text": [
      "C:\\Users\\MAQ\\AppData\\Local\\Temp\\ipykernel_16636\\1399360091.py:1: SettingWithCopyWarning: \n",
      "A value is trying to be set on a copy of a slice from a DataFrame.\n",
      "Try using .loc[row_indexer,col_indexer] = value instead\n",
      "\n",
      "See the caveats in the documentation: https://pandas.pydata.org/pandas-docs/stable/user_guide/indexing.html#returning-a-view-versus-a-copy\n",
      "  dfFive6Months['Accounts'] = dfFive6Months['Accounts'].astype(int)\n"
     ]
    }
   ],
   "source": [
    "dfFive6Months['Accounts'] = dfFive6Months['Accounts'].astype(int)"
   ]
  },
  {
   "cell_type": "code",
   "execution_count": 618,
   "id": "5b2dbda6-a86e-42dd-8756-1ef3d2ef3c10",
   "metadata": {},
   "outputs": [],
   "source": [
    "dfAccountSum = dfFive6Months.groupby(['Collection Tier', 'Servicer']).agg({'Accounts':'sum'})"
   ]
  },
  {
   "cell_type": "code",
   "execution_count": 619,
   "id": "6e868ed1-a202-4f1e-b638-ad8c21b2dec8",
   "metadata": {},
   "outputs": [],
   "source": [
    "# Dictionary for 6 Month Account sum\n",
    "\n",
    "SixMonthDict = {}"
   ]
  },
  {
   "cell_type": "code",
   "execution_count": 620,
   "id": "ef08dc65-8828-4b30-9acd-4e2143e526d1",
   "metadata": {},
   "outputs": [],
   "source": [
    "for index, value in dfAccountSum.iterrows():\n",
    "\n",
    "    SixMonthDict[index] = value.iloc[0]"
   ]
  },
  {
   "cell_type": "markdown",
   "id": "9dc6600e-7412-4133-91e0-2b7d68442b1c",
   "metadata": {},
   "source": [
    "### Creates Month Offset Column"
   ]
  },
  {
   "cell_type": "code",
   "execution_count": 621,
   "id": "87cb9b16-4ab6-4a2a-8683-1a50ab6aad83",
   "metadata": {},
   "outputs": [],
   "source": [
    "monthList14 = sorted(monthList14)"
   ]
  },
  {
   "cell_type": "code",
   "execution_count": 622,
   "id": "6f62b63a-f97b-4133-88ca-84020edf2562",
   "metadata": {},
   "outputs": [],
   "source": [
    "offsetDict = {}\n",
    "\n",
    "monthCount = 13\n",
    "\n",
    "for month in monthList14:\n",
    "\n",
    "    offsetDict[month] = monthCount\n",
    "    monthCount -= 1"
   ]
  },
  {
   "cell_type": "markdown",
   "id": "964d1e32-ffab-49f3-bf67-d997ce7c2b13",
   "metadata": {},
   "source": [
    "### Grouping Data on Collection Tier and Servicer"
   ]
  },
  {
   "cell_type": "code",
   "execution_count": 623,
   "id": "fdc43afc-904b-4d4d-a35e-b3bf73018bf7",
   "metadata": {},
   "outputs": [],
   "source": [
    "def StepLiq(row):\n",
    "\n",
    "    offset = row['Offset']\n",
    "\n",
    "    return row[f'Liq Rate {offset}']"
   ]
  },
  {
   "cell_type": "code",
   "execution_count": 624,
   "id": "479c4853-4312-40c7-91a0-87a17d0fff6e",
   "metadata": {},
   "outputs": [],
   "source": [
    "groupList = []\n",
    "\n",
    "for index, group in dfFive.groupby(['Collection Tier', 'Servicer']):\n",
    "\n",
    "    # Adds Offset Column against each month\n",
    "\n",
    "    group['Offset'] = group['Place YrMo'].apply(lambda x: offsetDict[x])\n",
    "\n",
    "    # Creates a step Liq Column\n",
    "\n",
    "    group['Step Liq'] = group.apply(StepLiq, axis=1)\n",
    "\n",
    "    # Creates Incremental liq Amount\n",
    "\n",
    "    group['Inc. Liq Amount'] = group['Balance'] * group['Step Liq']\n",
    "\n",
    "    # Gets group of Last six months\n",
    "\n",
    "    groupSixMonth = group[group['Place YrMo'].isin(monthList6)]\n",
    "\n",
    "    # Checks if sum of Accounts of total in last 6 months is 0\n",
    "    # Then whole group (14 months) is needed to calculate 'Incremental'\n",
    "\n",
    "    if SixMonthDict[(index[0], 'Total')] == 0:\n",
    "\n",
    "        groupList.append(group[otherCols + ['Inc. Liq Amount']])\n",
    "\n",
    "    # If not, only six months of group are needed\n",
    "\n",
    "    else:\n",
    "\n",
    "        groupList.append(groupSixMonth[otherCols + ['Inc. Liq Amount']])\n",
    "\n",
    "# Gets whole dataframe together\n",
    "\n",
    "dfFive = pd.concat(groupList)"
   ]
  },
  {
   "cell_type": "code",
   "execution_count": 625,
   "id": "3ec424a2-b11a-4fe1-9f65-b40ce246a214",
   "metadata": {},
   "outputs": [],
   "source": [
    "aggFunctions = {'Balance':'sum', 'Inc. Liq Amount':'sum'}\n",
    "\n",
    "dfFive = dfFive.groupby(['Collection Tier', 'Servicer']).agg(aggFunctions)"
   ]
  },
  {
   "cell_type": "code",
   "execution_count": 626,
   "id": "69ad130e-6a1e-4262-90ff-aa9472b97516",
   "metadata": {},
   "outputs": [],
   "source": [
    "dfFive['Incremental'] = dfFive['Inc. Liq Amount'] / dfFive['Balance']"
   ]
  },
  {
   "cell_type": "code",
   "execution_count": 627,
   "id": "6b8da023-0eef-4afe-9d1d-a7709a6f741e",
   "metadata": {},
   "outputs": [],
   "source": [
    "dfFive.reset_index(inplace=True)"
   ]
  },
  {
   "cell_type": "code",
   "execution_count": 628,
   "id": "17c3e413-fa54-4da9-bf7c-7eb8910e4b16",
   "metadata": {},
   "outputs": [
    {
     "data": {
      "text/html": [
       "<div>\n",
       "<style scoped>\n",
       "    .dataframe tbody tr th:only-of-type {\n",
       "        vertical-align: middle;\n",
       "    }\n",
       "\n",
       "    .dataframe tbody tr th {\n",
       "        vertical-align: top;\n",
       "    }\n",
       "\n",
       "    .dataframe thead th {\n",
       "        text-align: right;\n",
       "    }\n",
       "</style>\n",
       "<table border=\"1\" class=\"dataframe\">\n",
       "  <thead>\n",
       "    <tr style=\"text-align: right;\">\n",
       "      <th></th>\n",
       "      <th>Collection Tier</th>\n",
       "      <th>Servicer</th>\n",
       "      <th>Balance</th>\n",
       "      <th>Inc. Liq Amount</th>\n",
       "      <th>Incremental</th>\n",
       "    </tr>\n",
       "  </thead>\n",
       "  <tbody>\n",
       "    <tr>\n",
       "      <th>0</th>\n",
       "      <td>Auto Value Tier A</td>\n",
       "      <td>CCS</td>\n",
       "      <td>6.555289e+07</td>\n",
       "      <td>2741.000022</td>\n",
       "      <td>0.000042</td>\n",
       "    </tr>\n",
       "    <tr>\n",
       "      <th>1</th>\n",
       "      <td>Auto Value Tier A</td>\n",
       "      <td>FBS</td>\n",
       "      <td>8.790899e+07</td>\n",
       "      <td>2834.689977</td>\n",
       "      <td>0.000032</td>\n",
       "    </tr>\n",
       "    <tr>\n",
       "      <th>2</th>\n",
       "      <td>Auto Value Tier A</td>\n",
       "      <td>JEF</td>\n",
       "      <td>9.352060e+07</td>\n",
       "      <td>3377.930067</td>\n",
       "      <td>0.000036</td>\n",
       "    </tr>\n",
       "    <tr>\n",
       "      <th>3</th>\n",
       "      <td>Auto Value Tier A</td>\n",
       "      <td>SCI</td>\n",
       "      <td>1.010358e+08</td>\n",
       "      <td>4936.279957</td>\n",
       "      <td>0.000049</td>\n",
       "    </tr>\n",
       "    <tr>\n",
       "      <th>4</th>\n",
       "      <td>Auto Value Tier A</td>\n",
       "      <td>Total</td>\n",
       "      <td>5.049581e+08</td>\n",
       "      <td>23780.630027</td>\n",
       "      <td>0.000047</td>\n",
       "    </tr>\n",
       "    <tr>\n",
       "      <th>...</th>\n",
       "      <td>...</td>\n",
       "      <td>...</td>\n",
       "      <td>...</td>\n",
       "      <td>...</td>\n",
       "      <td>...</td>\n",
       "    </tr>\n",
       "    <tr>\n",
       "      <th>115</th>\n",
       "      <td>Value Tiers E &amp; F</td>\n",
       "      <td>JEF</td>\n",
       "      <td>7.678649e+08</td>\n",
       "      <td>17255.440077</td>\n",
       "      <td>0.000022</td>\n",
       "    </tr>\n",
       "    <tr>\n",
       "      <th>116</th>\n",
       "      <td>Value Tiers E &amp; F</td>\n",
       "      <td>MAB</td>\n",
       "      <td>1.537217e+08</td>\n",
       "      <td>1203.379993</td>\n",
       "      <td>0.000008</td>\n",
       "    </tr>\n",
       "    <tr>\n",
       "      <th>117</th>\n",
       "      <td>Value Tiers E &amp; F</td>\n",
       "      <td>SCI</td>\n",
       "      <td>1.559853e+08</td>\n",
       "      <td>1218.819960</td>\n",
       "      <td>0.000008</td>\n",
       "    </tr>\n",
       "    <tr>\n",
       "      <th>118</th>\n",
       "      <td>Value Tiers E &amp; F</td>\n",
       "      <td>Total</td>\n",
       "      <td>1.253386e+09</td>\n",
       "      <td>26033.239610</td>\n",
       "      <td>0.000021</td>\n",
       "    </tr>\n",
       "    <tr>\n",
       "      <th>119</th>\n",
       "      <td>Value Tiers E &amp; F</td>\n",
       "      <td>UNI</td>\n",
       "      <td>1.758144e+08</td>\n",
       "      <td>6355.599984</td>\n",
       "      <td>0.000036</td>\n",
       "    </tr>\n",
       "  </tbody>\n",
       "</table>\n",
       "<p>120 rows × 5 columns</p>\n",
       "</div>"
      ],
      "text/plain": [
       "       Collection Tier Servicer       Balance  Inc. Liq Amount  Incremental\n",
       "0    Auto Value Tier A      CCS  6.555289e+07      2741.000022     0.000042\n",
       "1    Auto Value Tier A      FBS  8.790899e+07      2834.689977     0.000032\n",
       "2    Auto Value Tier A      JEF  9.352060e+07      3377.930067     0.000036\n",
       "3    Auto Value Tier A      SCI  1.010358e+08      4936.279957     0.000049\n",
       "4    Auto Value Tier A    Total  5.049581e+08     23780.630027     0.000047\n",
       "..                 ...      ...           ...              ...          ...\n",
       "115  Value Tiers E & F      JEF  7.678649e+08     17255.440077     0.000022\n",
       "116  Value Tiers E & F      MAB  1.537217e+08      1203.379993     0.000008\n",
       "117  Value Tiers E & F      SCI  1.559853e+08      1218.819960     0.000008\n",
       "118  Value Tiers E & F    Total  1.253386e+09     26033.239610     0.000021\n",
       "119  Value Tiers E & F      UNI  1.758144e+08      6355.599984     0.000036\n",
       "\n",
       "[120 rows x 5 columns]"
      ]
     },
     "execution_count": 628,
     "metadata": {},
     "output_type": "execute_result"
    }
   ],
   "source": [
    "dfFive"
   ]
  },
  {
   "cell_type": "code",
   "execution_count": 631,
   "id": "feca9041-d52b-407d-8c92-e09129660bef",
   "metadata": {},
   "outputs": [],
   "source": [
    "groupList = []\n",
    "\n",
    "for index, group in  dfFive.groupby(['Collection Tier']):\n",
    "\n",
    "    # Gets Maximum Incremental of group\n",
    "\n",
    "    MaxInc = group['Incremental'].max()\n",
    "\n",
    "    group['Incremental To leader'] = group['Incremental'] / MaxInc\n",
    "\n",
    "    groupList.append(group['Collection Tier', 'Servicer', 'Incremental To leader'])\n",
    "\n",
    "dfFive = pd.concat(groupList)"
   ]
  },
  {
   "cell_type": "code",
   "execution_count": 638,
   "id": "1a37be2a-271c-4361-8708-09bc959f86f9",
   "metadata": {},
   "outputs": [],
   "source": [
    "dfFive = dfFive[dfFive['Servicer'] == 'UNI'].set_index('Collection Tier')"
   ]
  },
  {
   "cell_type": "code",
   "execution_count": 639,
   "id": "5a0a3741-257d-40e9-8c70-eade09d10e8e",
   "metadata": {},
   "outputs": [
    {
     "data": {
      "text/html": [
       "<div>\n",
       "<style scoped>\n",
       "    .dataframe tbody tr th:only-of-type {\n",
       "        vertical-align: middle;\n",
       "    }\n",
       "\n",
       "    .dataframe tbody tr th {\n",
       "        vertical-align: top;\n",
       "    }\n",
       "\n",
       "    .dataframe thead th {\n",
       "        text-align: right;\n",
       "    }\n",
       "</style>\n",
       "<table border=\"1\" class=\"dataframe\">\n",
       "  <thead>\n",
       "    <tr style=\"text-align: right;\">\n",
       "      <th></th>\n",
       "      <th>Servicer</th>\n",
       "      <th>Balance</th>\n",
       "      <th>Inc. Liq Amount</th>\n",
       "      <th>Incremental</th>\n",
       "      <th>Incremental To leader</th>\n",
       "    </tr>\n",
       "    <tr>\n",
       "      <th>Collection Tier</th>\n",
       "      <th></th>\n",
       "      <th></th>\n",
       "      <th></th>\n",
       "      <th></th>\n",
       "      <th></th>\n",
       "    </tr>\n",
       "  </thead>\n",
       "  <tbody>\n",
       "    <tr>\n",
       "      <th>Dismissed Bankruptcy Prime</th>\n",
       "      <td>UNI</td>\n",
       "      <td>1.688168e+07</td>\n",
       "      <td>2317.059981</td>\n",
       "      <td>1.372529e-04</td>\n",
       "      <td>1.000000</td>\n",
       "    </tr>\n",
       "    <tr>\n",
       "      <th>Value Tier A+</th>\n",
       "      <td>UNI</td>\n",
       "      <td>6.895982e+07</td>\n",
       "      <td>18627.119876</td>\n",
       "      <td>2.701155e-04</td>\n",
       "      <td>1.000000</td>\n",
       "    </tr>\n",
       "    <tr>\n",
       "      <th>Value Tier A</th>\n",
       "      <td>UNI</td>\n",
       "      <td>2.241297e+08</td>\n",
       "      <td>43191.150068</td>\n",
       "      <td>1.927060e-04</td>\n",
       "      <td>0.735387</td>\n",
       "    </tr>\n",
       "    <tr>\n",
       "      <th>Value Tier B</th>\n",
       "      <td>UNI</td>\n",
       "      <td>2.630371e+08</td>\n",
       "      <td>44260.819004</td>\n",
       "      <td>1.682684e-04</td>\n",
       "      <td>0.956747</td>\n",
       "    </tr>\n",
       "    <tr>\n",
       "      <th>Value Tier C</th>\n",
       "      <td>UNI</td>\n",
       "      <td>2.334370e+08</td>\n",
       "      <td>11917.109974</td>\n",
       "      <td>5.105066e-05</td>\n",
       "      <td>0.577814</td>\n",
       "    </tr>\n",
       "    <tr>\n",
       "      <th>Value Tier D</th>\n",
       "      <td>UNI</td>\n",
       "      <td>2.600333e+08</td>\n",
       "      <td>20990.820258</td>\n",
       "      <td>8.072357e-05</td>\n",
       "      <td>1.000000</td>\n",
       "    </tr>\n",
       "    <tr>\n",
       "      <th>Value Tier E</th>\n",
       "      <td>UNI</td>\n",
       "      <td>9.588180e+07</td>\n",
       "      <td>3498.820007</td>\n",
       "      <td>3.649097e-05</td>\n",
       "      <td>1.000000</td>\n",
       "    </tr>\n",
       "    <tr>\n",
       "      <th>Value Tier F</th>\n",
       "      <td>UNI</td>\n",
       "      <td>7.993258e+07</td>\n",
       "      <td>2856.779941</td>\n",
       "      <td>3.573987e-05</td>\n",
       "      <td>1.000000</td>\n",
       "    </tr>\n",
       "    <tr>\n",
       "      <th>Value Tier G</th>\n",
       "      <td>UNI</td>\n",
       "      <td>2.664063e+08</td>\n",
       "      <td>73.879998</td>\n",
       "      <td>2.773208e-07</td>\n",
       "      <td>0.034521</td>\n",
       "    </tr>\n",
       "    <tr>\n",
       "      <th>Spanish Value Tier A</th>\n",
       "      <td>UNI</td>\n",
       "      <td>1.290542e+08</td>\n",
       "      <td>17592.790027</td>\n",
       "      <td>1.363209e-04</td>\n",
       "      <td>1.000000</td>\n",
       "    </tr>\n",
       "    <tr>\n",
       "      <th>Spanish Value Tier B</th>\n",
       "      <td>UNI</td>\n",
       "      <td>6.285219e+07</td>\n",
       "      <td>1478.870014</td>\n",
       "      <td>2.352933e-05</td>\n",
       "      <td>0.383480</td>\n",
       "    </tr>\n",
       "    <tr>\n",
       "      <th>Spanish Value Tier C</th>\n",
       "      <td>UNI</td>\n",
       "      <td>9.450898e+07</td>\n",
       "      <td>964.719997</td>\n",
       "      <td>1.020771e-05</td>\n",
       "      <td>0.289127</td>\n",
       "    </tr>\n",
       "    <tr>\n",
       "      <th>Auto Value Tier A</th>\n",
       "      <td>UNI</td>\n",
       "      <td>1.569399e+08</td>\n",
       "      <td>9890.729781</td>\n",
       "      <td>6.302242e-05</td>\n",
       "      <td>1.000000</td>\n",
       "    </tr>\n",
       "    <tr>\n",
       "      <th>Auto Value Tier B</th>\n",
       "      <td>UNI</td>\n",
       "      <td>1.994658e+08</td>\n",
       "      <td>2060.000073</td>\n",
       "      <td>1.032759e-05</td>\n",
       "      <td>0.934347</td>\n",
       "    </tr>\n",
       "    <tr>\n",
       "      <th>Auto Value Tier C</th>\n",
       "      <td>UNI</td>\n",
       "      <td>4.604176e+07</td>\n",
       "      <td>1800.999955</td>\n",
       "      <td>3.911666e-05</td>\n",
       "      <td>1.000000</td>\n",
       "    </tr>\n",
       "    <tr>\n",
       "      <th>Auto Value Tier D</th>\n",
       "      <td>UNI</td>\n",
       "      <td>3.315841e+07</td>\n",
       "      <td>1028.000014</td>\n",
       "      <td>3.100269e-05</td>\n",
       "      <td>1.000000</td>\n",
       "    </tr>\n",
       "    <tr>\n",
       "      <th>Auto Value Tier E</th>\n",
       "      <td>UNI</td>\n",
       "      <td>3.150200e+07</td>\n",
       "      <td>0.000000</td>\n",
       "      <td>0.000000e+00</td>\n",
       "      <td>NaN</td>\n",
       "    </tr>\n",
       "    <tr>\n",
       "      <th>Sallie Mae 1</th>\n",
       "      <td>UNI</td>\n",
       "      <td>7.572383e+06</td>\n",
       "      <td>249.999999</td>\n",
       "      <td>3.301470e-05</td>\n",
       "      <td>1.000000</td>\n",
       "    </tr>\n",
       "    <tr>\n",
       "      <th>Sallie Mae 2</th>\n",
       "      <td>UNI</td>\n",
       "      <td>1.413496e+07</td>\n",
       "      <td>1453.999989</td>\n",
       "      <td>1.028655e-04</td>\n",
       "      <td>1.000000</td>\n",
       "    </tr>\n",
       "  </tbody>\n",
       "</table>\n",
       "</div>"
      ],
      "text/plain": [
       "                           Servicer       Balance  Inc. Liq Amount  \\\n",
       "Collection Tier                                                      \n",
       "Dismissed Bankruptcy Prime      UNI  1.688168e+07      2317.059981   \n",
       "Value Tier A+                   UNI  6.895982e+07     18627.119876   \n",
       "Value Tier A                    UNI  2.241297e+08     43191.150068   \n",
       "Value Tier B                    UNI  2.630371e+08     44260.819004   \n",
       "Value Tier C                    UNI  2.334370e+08     11917.109974   \n",
       "Value Tier D                    UNI  2.600333e+08     20990.820258   \n",
       "Value Tier E                    UNI  9.588180e+07      3498.820007   \n",
       "Value Tier F                    UNI  7.993258e+07      2856.779941   \n",
       "Value Tier G                    UNI  2.664063e+08        73.879998   \n",
       "Spanish Value Tier A            UNI  1.290542e+08     17592.790027   \n",
       "Spanish Value Tier B            UNI  6.285219e+07      1478.870014   \n",
       "Spanish Value Tier C            UNI  9.450898e+07       964.719997   \n",
       "Auto Value Tier A               UNI  1.569399e+08      9890.729781   \n",
       "Auto Value Tier B               UNI  1.994658e+08      2060.000073   \n",
       "Auto Value Tier C               UNI  4.604176e+07      1800.999955   \n",
       "Auto Value Tier D               UNI  3.315841e+07      1028.000014   \n",
       "Auto Value Tier E               UNI  3.150200e+07         0.000000   \n",
       "Sallie Mae 1                    UNI  7.572383e+06       249.999999   \n",
       "Sallie Mae 2                    UNI  1.413496e+07      1453.999989   \n",
       "\n",
       "                             Incremental  Incremental To leader  \n",
       "Collection Tier                                                  \n",
       "Dismissed Bankruptcy Prime  1.372529e-04               1.000000  \n",
       "Value Tier A+               2.701155e-04               1.000000  \n",
       "Value Tier A                1.927060e-04               0.735387  \n",
       "Value Tier B                1.682684e-04               0.956747  \n",
       "Value Tier C                5.105066e-05               0.577814  \n",
       "Value Tier D                8.072357e-05               1.000000  \n",
       "Value Tier E                3.649097e-05               1.000000  \n",
       "Value Tier F                3.573987e-05               1.000000  \n",
       "Value Tier G                2.773208e-07               0.034521  \n",
       "Spanish Value Tier A        1.363209e-04               1.000000  \n",
       "Spanish Value Tier B        2.352933e-05               0.383480  \n",
       "Spanish Value Tier C        1.020771e-05               0.289127  \n",
       "Auto Value Tier A           6.302242e-05               1.000000  \n",
       "Auto Value Tier B           1.032759e-05               0.934347  \n",
       "Auto Value Tier C           3.911666e-05               1.000000  \n",
       "Auto Value Tier D           3.100269e-05               1.000000  \n",
       "Auto Value Tier E           0.000000e+00                    NaN  \n",
       "Sallie Mae 1                3.301470e-05               1.000000  \n",
       "Sallie Mae 2                1.028655e-04               1.000000  "
      ]
     },
     "execution_count": 639,
     "metadata": {},
     "output_type": "execute_result"
    }
   ],
   "source": [
    "dfFive.reindex(tierList)"
   ]
  },
  {
   "cell_type": "markdown",
   "id": "86da9951-eef1-446e-8e32-629fd331b8af",
   "metadata": {},
   "source": [
    "# Merge DataFrames"
   ]
  },
  {
   "cell_type": "code",
   "execution_count": 362,
   "id": "e030f9ca-fc18-4d51-be01-1b2a5a9ecb01",
   "metadata": {},
   "outputs": [],
   "source": [
    "dfFinal = pd.merge(dfOneFinal, dfTwoFinal, left_index=True, right_index=True)"
   ]
  },
  {
   "cell_type": "code",
   "execution_count": 363,
   "id": "af35c455-7377-4399-b2ef-89a3cfc0349f",
   "metadata": {},
   "outputs": [
    {
     "data": {
      "text/html": [
       "<div>\n",
       "<style scoped>\n",
       "    .dataframe tbody tr th:only-of-type {\n",
       "        vertical-align: middle;\n",
       "    }\n",
       "\n",
       "    .dataframe tbody tr th {\n",
       "        vertical-align: top;\n",
       "    }\n",
       "\n",
       "    .dataframe thead th {\n",
       "        text-align: right;\n",
       "    }\n",
       "</style>\n",
       "<table border=\"1\" class=\"dataframe\">\n",
       "  <thead>\n",
       "    <tr style=\"text-align: right;\">\n",
       "      <th></th>\n",
       "      <th>Total Acc</th>\n",
       "      <th>Total Amt</th>\n",
       "      <th>UNI Acc</th>\n",
       "      <th>UNI Amt</th>\n",
       "      <th>UNI Current Acc</th>\n",
       "      <th>UNI Current Amt</th>\n",
       "      <th>% Acc</th>\n",
       "      <th>202305</th>\n",
       "      <th>202306</th>\n",
       "      <th>202307</th>\n",
       "      <th>202308</th>\n",
       "      <th>202309</th>\n",
       "      <th>202310</th>\n",
       "    </tr>\n",
       "    <tr>\n",
       "      <th>Collection Tier</th>\n",
       "      <th></th>\n",
       "      <th></th>\n",
       "      <th></th>\n",
       "      <th></th>\n",
       "      <th></th>\n",
       "      <th></th>\n",
       "      <th></th>\n",
       "      <th></th>\n",
       "      <th></th>\n",
       "      <th></th>\n",
       "      <th></th>\n",
       "      <th></th>\n",
       "      <th></th>\n",
       "    </tr>\n",
       "  </thead>\n",
       "  <tbody>\n",
       "    <tr>\n",
       "      <th>Dismissed Bankruptcy Prime</th>\n",
       "      <td>13881.0</td>\n",
       "      <td>1.688168e+07</td>\n",
       "      <td>13881.0</td>\n",
       "      <td>1.688168e+07</td>\n",
       "      <td>8784.0</td>\n",
       "      <td>1.009879e+07</td>\n",
       "      <td>1.000000</td>\n",
       "      <td>0.000000</td>\n",
       "      <td>0.000000</td>\n",
       "      <td>0.000000</td>\n",
       "      <td>0.000000</td>\n",
       "      <td>0.000000</td>\n",
       "      <td>0.000000</td>\n",
       "    </tr>\n",
       "    <tr>\n",
       "      <th>Value Tier A+</th>\n",
       "      <td>53685.0</td>\n",
       "      <td>1.921246e+08</td>\n",
       "      <td>19232.0</td>\n",
       "      <td>6.895982e+07</td>\n",
       "      <td>14417.0</td>\n",
       "      <td>5.091335e+07</td>\n",
       "      <td>0.358238</td>\n",
       "      <td>0.000000</td>\n",
       "      <td>-6074.112765</td>\n",
       "      <td>-20695.599293</td>\n",
       "      <td>-4153.790746</td>\n",
       "      <td>0.000000</td>\n",
       "      <td>-5375.160779</td>\n",
       "    </tr>\n",
       "    <tr>\n",
       "      <th>Value Tier A</th>\n",
       "      <td>268154.0</td>\n",
       "      <td>6.281761e+08</td>\n",
       "      <td>96507.0</td>\n",
       "      <td>2.241297e+08</td>\n",
       "      <td>68047.0</td>\n",
       "      <td>1.611194e+08</td>\n",
       "      <td>0.359894</td>\n",
       "      <td>-10125.669302</td>\n",
       "      <td>-16865.249084</td>\n",
       "      <td>-63381.120098</td>\n",
       "      <td>0.000000</td>\n",
       "      <td>0.000000</td>\n",
       "      <td>-2047.841034</td>\n",
       "    </tr>\n",
       "    <tr>\n",
       "      <th>Value Tier B</th>\n",
       "      <td>440432.0</td>\n",
       "      <td>7.396212e+08</td>\n",
       "      <td>158552.0</td>\n",
       "      <td>2.630371e+08</td>\n",
       "      <td>112825.0</td>\n",
       "      <td>1.917376e+08</td>\n",
       "      <td>0.359992</td>\n",
       "      <td>-64025.911749</td>\n",
       "      <td>-25091.123534</td>\n",
       "      <td>-5105.794829</td>\n",
       "      <td>0.000000</td>\n",
       "      <td>0.000000</td>\n",
       "      <td>-10128.646552</td>\n",
       "    </tr>\n",
       "    <tr>\n",
       "      <th>Value Tier C</th>\n",
       "      <td>656690.0</td>\n",
       "      <td>9.188850e+08</td>\n",
       "      <td>174597.0</td>\n",
       "      <td>2.334370e+08</td>\n",
       "      <td>130844.0</td>\n",
       "      <td>1.782163e+08</td>\n",
       "      <td>0.265874</td>\n",
       "      <td>-34135.337082</td>\n",
       "      <td>-26804.713542</td>\n",
       "      <td>-6931.267818</td>\n",
       "      <td>0.000000</td>\n",
       "      <td>0.000000</td>\n",
       "      <td>-15151.230398</td>\n",
       "    </tr>\n",
       "    <tr>\n",
       "      <th>Value Tier D</th>\n",
       "      <td>879077.0</td>\n",
       "      <td>1.025241e+09</td>\n",
       "      <td>232489.0</td>\n",
       "      <td>2.600333e+08</td>\n",
       "      <td>190575.0</td>\n",
       "      <td>2.147584e+08</td>\n",
       "      <td>0.264469</td>\n",
       "      <td>-25521.361960</td>\n",
       "      <td>-8524.505775</td>\n",
       "      <td>-9730.616399</td>\n",
       "      <td>0.000000</td>\n",
       "      <td>0.000000</td>\n",
       "      <td>-8125.901588</td>\n",
       "    </tr>\n",
       "    <tr>\n",
       "      <th>Value Tier E</th>\n",
       "      <td>658488.0</td>\n",
       "      <td>6.921891e+08</td>\n",
       "      <td>90626.0</td>\n",
       "      <td>9.588180e+07</td>\n",
       "      <td>81403.0</td>\n",
       "      <td>8.763434e+07</td>\n",
       "      <td>0.137627</td>\n",
       "      <td>-6076.880593</td>\n",
       "      <td>-366.867146</td>\n",
       "      <td>0.000000</td>\n",
       "      <td>-2642.502955</td>\n",
       "      <td>0.000000</td>\n",
       "      <td>0.000000</td>\n",
       "    </tr>\n",
       "    <tr>\n",
       "      <th>Value Tier F</th>\n",
       "      <td>569810.0</td>\n",
       "      <td>5.611971e+08</td>\n",
       "      <td>79717.0</td>\n",
       "      <td>7.993258e+07</td>\n",
       "      <td>73498.0</td>\n",
       "      <td>7.455523e+07</td>\n",
       "      <td>0.139901</td>\n",
       "      <td>-2278.356417</td>\n",
       "      <td>-1976.325006</td>\n",
       "      <td>0.000000</td>\n",
       "      <td>0.000000</td>\n",
       "      <td>0.000000</td>\n",
       "      <td>0.000000</td>\n",
       "    </tr>\n",
       "    <tr>\n",
       "      <th>Value Tier G</th>\n",
       "      <td>1598743.0</td>\n",
       "      <td>1.424129e+09</td>\n",
       "      <td>296050.0</td>\n",
       "      <td>2.664063e+08</td>\n",
       "      <td>267022.0</td>\n",
       "      <td>2.431544e+08</td>\n",
       "      <td>0.185177</td>\n",
       "      <td>-4229.669312</td>\n",
       "      <td>-2233.472387</td>\n",
       "      <td>-3711.509893</td>\n",
       "      <td>-7990.874823</td>\n",
       "      <td>-1215.548695</td>\n",
       "      <td>-504.961622</td>\n",
       "    </tr>\n",
       "    <tr>\n",
       "      <th>Spanish Value Tier A</th>\n",
       "      <td>60316.0</td>\n",
       "      <td>2.229490e+08</td>\n",
       "      <td>34936.0</td>\n",
       "      <td>1.290542e+08</td>\n",
       "      <td>32120.0</td>\n",
       "      <td>1.191107e+08</td>\n",
       "      <td>0.579216</td>\n",
       "      <td>-17781.000510</td>\n",
       "      <td>0.000000</td>\n",
       "      <td>0.000000</td>\n",
       "      <td>0.000000</td>\n",
       "      <td>-7119.009163</td>\n",
       "      <td>0.000000</td>\n",
       "    </tr>\n",
       "    <tr>\n",
       "      <th>Spanish Value Tier B</th>\n",
       "      <td>56827.0</td>\n",
       "      <td>1.190474e+08</td>\n",
       "      <td>30037.0</td>\n",
       "      <td>6.285219e+07</td>\n",
       "      <td>28113.0</td>\n",
       "      <td>5.891548e+07</td>\n",
       "      <td>0.528569</td>\n",
       "      <td>0.000000</td>\n",
       "      <td>0.000000</td>\n",
       "      <td>-3699.285188</td>\n",
       "      <td>-17018.822023</td>\n",
       "      <td>0.000000</td>\n",
       "      <td>0.000000</td>\n",
       "    </tr>\n",
       "    <tr>\n",
       "      <th>Spanish Value Tier C</th>\n",
       "      <td>192838.0</td>\n",
       "      <td>2.251819e+08</td>\n",
       "      <td>79249.0</td>\n",
       "      <td>9.450898e+07</td>\n",
       "      <td>73052.0</td>\n",
       "      <td>8.687200e+07</td>\n",
       "      <td>0.410962</td>\n",
       "      <td>0.000000</td>\n",
       "      <td>-2762.820174</td>\n",
       "      <td>-7254.564344</td>\n",
       "      <td>-4793.769283</td>\n",
       "      <td>-1376.438010</td>\n",
       "      <td>-1398.297055</td>\n",
       "    </tr>\n",
       "    <tr>\n",
       "      <th>Auto Value Tier A</th>\n",
       "      <td>61914.0</td>\n",
       "      <td>5.049581e+08</td>\n",
       "      <td>19206.0</td>\n",
       "      <td>1.569399e+08</td>\n",
       "      <td>14513.0</td>\n",
       "      <td>1.190674e+08</td>\n",
       "      <td>0.310204</td>\n",
       "      <td>0.000000</td>\n",
       "      <td>0.000000</td>\n",
       "      <td>-970.025346</td>\n",
       "      <td>0.000000</td>\n",
       "      <td>0.000000</td>\n",
       "      <td>0.000000</td>\n",
       "    </tr>\n",
       "    <tr>\n",
       "      <th>Auto Value Tier B</th>\n",
       "      <td>72066.0</td>\n",
       "      <td>5.661086e+08</td>\n",
       "      <td>25140.0</td>\n",
       "      <td>1.994658e+08</td>\n",
       "      <td>22125.0</td>\n",
       "      <td>1.758588e+08</td>\n",
       "      <td>0.348847</td>\n",
       "      <td>-18367.422928</td>\n",
       "      <td>-5044.771417</td>\n",
       "      <td>-33.914551</td>\n",
       "      <td>-5425.244889</td>\n",
       "      <td>-4731.381205</td>\n",
       "      <td>-1006.469707</td>\n",
       "    </tr>\n",
       "    <tr>\n",
       "      <th>Auto Value Tier C</th>\n",
       "      <td>19714.0</td>\n",
       "      <td>1.519932e+08</td>\n",
       "      <td>5959.0</td>\n",
       "      <td>4.604176e+07</td>\n",
       "      <td>5483.0</td>\n",
       "      <td>4.242813e+07</td>\n",
       "      <td>0.302272</td>\n",
       "      <td>-7008.776451</td>\n",
       "      <td>0.000000</td>\n",
       "      <td>0.000000</td>\n",
       "      <td>0.000000</td>\n",
       "      <td>0.000000</td>\n",
       "      <td>0.000000</td>\n",
       "    </tr>\n",
       "    <tr>\n",
       "      <th>Auto Value Tier D</th>\n",
       "      <td>12597.0</td>\n",
       "      <td>9.831935e+07</td>\n",
       "      <td>4261.0</td>\n",
       "      <td>3.315841e+07</td>\n",
       "      <td>3818.0</td>\n",
       "      <td>2.973871e+07</td>\n",
       "      <td>0.338255</td>\n",
       "      <td>0.000000</td>\n",
       "      <td>-409.695684</td>\n",
       "      <td>-730.622112</td>\n",
       "      <td>0.000000</td>\n",
       "      <td>0.000000</td>\n",
       "      <td>0.000000</td>\n",
       "    </tr>\n",
       "    <tr>\n",
       "      <th>Auto Value Tier E</th>\n",
       "      <td>16756.0</td>\n",
       "      <td>1.218361e+08</td>\n",
       "      <td>4373.0</td>\n",
       "      <td>3.150200e+07</td>\n",
       "      <td>4007.0</td>\n",
       "      <td>2.903841e+07</td>\n",
       "      <td>0.260981</td>\n",
       "      <td>0.000000</td>\n",
       "      <td>-181.519201</td>\n",
       "      <td>-1140.450007</td>\n",
       "      <td>0.000000</td>\n",
       "      <td>0.000000</td>\n",
       "      <td>0.000000</td>\n",
       "    </tr>\n",
       "    <tr>\n",
       "      <th>Sallie Mae 1</th>\n",
       "      <td>1346.0</td>\n",
       "      <td>1.723248e+07</td>\n",
       "      <td>557.0</td>\n",
       "      <td>7.572383e+06</td>\n",
       "      <td>362.0</td>\n",
       "      <td>4.806418e+06</td>\n",
       "      <td>0.413819</td>\n",
       "      <td>-10755.070649</td>\n",
       "      <td>0.000000</td>\n",
       "      <td>0.000000</td>\n",
       "      <td>0.000000</td>\n",
       "      <td>0.000000</td>\n",
       "      <td>0.000000</td>\n",
       "    </tr>\n",
       "    <tr>\n",
       "      <th>Sallie Mae 2</th>\n",
       "      <td>2705.0</td>\n",
       "      <td>3.376410e+07</td>\n",
       "      <td>1099.0</td>\n",
       "      <td>1.413496e+07</td>\n",
       "      <td>1035.0</td>\n",
       "      <td>1.328649e+07</td>\n",
       "      <td>0.406285</td>\n",
       "      <td>NaN</td>\n",
       "      <td>0.000000</td>\n",
       "      <td>0.000000</td>\n",
       "      <td>0.000000</td>\n",
       "      <td>-4681.290342</td>\n",
       "      <td>-12.651455</td>\n",
       "    </tr>\n",
       "  </tbody>\n",
       "</table>\n",
       "</div>"
      ],
      "text/plain": [
       "                            Total Acc     Total Amt   UNI Acc       UNI Amt  \\\n",
       "Collection Tier                                                               \n",
       "Dismissed Bankruptcy Prime    13881.0  1.688168e+07   13881.0  1.688168e+07   \n",
       "Value Tier A+                 53685.0  1.921246e+08   19232.0  6.895982e+07   \n",
       "Value Tier A                 268154.0  6.281761e+08   96507.0  2.241297e+08   \n",
       "Value Tier B                 440432.0  7.396212e+08  158552.0  2.630371e+08   \n",
       "Value Tier C                 656690.0  9.188850e+08  174597.0  2.334370e+08   \n",
       "Value Tier D                 879077.0  1.025241e+09  232489.0  2.600333e+08   \n",
       "Value Tier E                 658488.0  6.921891e+08   90626.0  9.588180e+07   \n",
       "Value Tier F                 569810.0  5.611971e+08   79717.0  7.993258e+07   \n",
       "Value Tier G                1598743.0  1.424129e+09  296050.0  2.664063e+08   \n",
       "Spanish Value Tier A          60316.0  2.229490e+08   34936.0  1.290542e+08   \n",
       "Spanish Value Tier B          56827.0  1.190474e+08   30037.0  6.285219e+07   \n",
       "Spanish Value Tier C         192838.0  2.251819e+08   79249.0  9.450898e+07   \n",
       "Auto Value Tier A             61914.0  5.049581e+08   19206.0  1.569399e+08   \n",
       "Auto Value Tier B             72066.0  5.661086e+08   25140.0  1.994658e+08   \n",
       "Auto Value Tier C             19714.0  1.519932e+08    5959.0  4.604176e+07   \n",
       "Auto Value Tier D             12597.0  9.831935e+07    4261.0  3.315841e+07   \n",
       "Auto Value Tier E             16756.0  1.218361e+08    4373.0  3.150200e+07   \n",
       "Sallie Mae 1                   1346.0  1.723248e+07     557.0  7.572383e+06   \n",
       "Sallie Mae 2                   2705.0  3.376410e+07    1099.0  1.413496e+07   \n",
       "\n",
       "                            UNI Current Acc  UNI Current Amt     % Acc  \\\n",
       "Collection Tier                                                          \n",
       "Dismissed Bankruptcy Prime           8784.0     1.009879e+07  1.000000   \n",
       "Value Tier A+                       14417.0     5.091335e+07  0.358238   \n",
       "Value Tier A                        68047.0     1.611194e+08  0.359894   \n",
       "Value Tier B                       112825.0     1.917376e+08  0.359992   \n",
       "Value Tier C                       130844.0     1.782163e+08  0.265874   \n",
       "Value Tier D                       190575.0     2.147584e+08  0.264469   \n",
       "Value Tier E                        81403.0     8.763434e+07  0.137627   \n",
       "Value Tier F                        73498.0     7.455523e+07  0.139901   \n",
       "Value Tier G                       267022.0     2.431544e+08  0.185177   \n",
       "Spanish Value Tier A                32120.0     1.191107e+08  0.579216   \n",
       "Spanish Value Tier B                28113.0     5.891548e+07  0.528569   \n",
       "Spanish Value Tier C                73052.0     8.687200e+07  0.410962   \n",
       "Auto Value Tier A                   14513.0     1.190674e+08  0.310204   \n",
       "Auto Value Tier B                   22125.0     1.758588e+08  0.348847   \n",
       "Auto Value Tier C                    5483.0     4.242813e+07  0.302272   \n",
       "Auto Value Tier D                    3818.0     2.973871e+07  0.338255   \n",
       "Auto Value Tier E                    4007.0     2.903841e+07  0.260981   \n",
       "Sallie Mae 1                          362.0     4.806418e+06  0.413819   \n",
       "Sallie Mae 2                         1035.0     1.328649e+07  0.406285   \n",
       "\n",
       "                                  202305        202306        202307  \\\n",
       "Collection Tier                                                        \n",
       "Dismissed Bankruptcy Prime      0.000000      0.000000      0.000000   \n",
       "Value Tier A+                   0.000000  -6074.112765 -20695.599293   \n",
       "Value Tier A               -10125.669302 -16865.249084 -63381.120098   \n",
       "Value Tier B               -64025.911749 -25091.123534  -5105.794829   \n",
       "Value Tier C               -34135.337082 -26804.713542  -6931.267818   \n",
       "Value Tier D               -25521.361960  -8524.505775  -9730.616399   \n",
       "Value Tier E                -6076.880593   -366.867146      0.000000   \n",
       "Value Tier F                -2278.356417  -1976.325006      0.000000   \n",
       "Value Tier G                -4229.669312  -2233.472387  -3711.509893   \n",
       "Spanish Value Tier A       -17781.000510      0.000000      0.000000   \n",
       "Spanish Value Tier B            0.000000      0.000000  -3699.285188   \n",
       "Spanish Value Tier C            0.000000  -2762.820174  -7254.564344   \n",
       "Auto Value Tier A               0.000000      0.000000   -970.025346   \n",
       "Auto Value Tier B          -18367.422928  -5044.771417    -33.914551   \n",
       "Auto Value Tier C           -7008.776451      0.000000      0.000000   \n",
       "Auto Value Tier D               0.000000   -409.695684   -730.622112   \n",
       "Auto Value Tier E               0.000000   -181.519201  -1140.450007   \n",
       "Sallie Mae 1               -10755.070649      0.000000      0.000000   \n",
       "Sallie Mae 2                         NaN      0.000000      0.000000   \n",
       "\n",
       "                                  202308       202309        202310  \n",
       "Collection Tier                                                      \n",
       "Dismissed Bankruptcy Prime      0.000000     0.000000      0.000000  \n",
       "Value Tier A+               -4153.790746     0.000000  -5375.160779  \n",
       "Value Tier A                    0.000000     0.000000  -2047.841034  \n",
       "Value Tier B                    0.000000     0.000000 -10128.646552  \n",
       "Value Tier C                    0.000000     0.000000 -15151.230398  \n",
       "Value Tier D                    0.000000     0.000000  -8125.901588  \n",
       "Value Tier E                -2642.502955     0.000000      0.000000  \n",
       "Value Tier F                    0.000000     0.000000      0.000000  \n",
       "Value Tier G                -7990.874823 -1215.548695   -504.961622  \n",
       "Spanish Value Tier A            0.000000 -7119.009163      0.000000  \n",
       "Spanish Value Tier B       -17018.822023     0.000000      0.000000  \n",
       "Spanish Value Tier C        -4793.769283 -1376.438010  -1398.297055  \n",
       "Auto Value Tier A               0.000000     0.000000      0.000000  \n",
       "Auto Value Tier B           -5425.244889 -4731.381205  -1006.469707  \n",
       "Auto Value Tier C               0.000000     0.000000      0.000000  \n",
       "Auto Value Tier D               0.000000     0.000000      0.000000  \n",
       "Auto Value Tier E               0.000000     0.000000      0.000000  \n",
       "Sallie Mae 1                    0.000000     0.000000      0.000000  \n",
       "Sallie Mae 2                    0.000000 -4681.290342    -12.651455  "
      ]
     },
     "execution_count": 363,
     "metadata": {},
     "output_type": "execute_result"
    }
   ],
   "source": [
    "dfFinal"
   ]
  },
  {
   "cell_type": "code",
   "execution_count": null,
   "id": "2cc396b2-da0a-4d15-b5a8-6b14071b91df",
   "metadata": {},
   "outputs": [],
   "source": []
  },
  {
   "cell_type": "code",
   "execution_count": null,
   "id": "b28f65b4-36df-4f34-a339-4c1e8f9e52b3",
   "metadata": {},
   "outputs": [],
   "source": []
  },
  {
   "cell_type": "code",
   "execution_count": null,
   "id": "e80d0e3a-28e6-4e6d-ae44-fbd9c296b984",
   "metadata": {},
   "outputs": [],
   "source": []
  },
  {
   "cell_type": "code",
   "execution_count": null,
   "id": "e4a04523-98ca-4313-8c3b-745a95e0bd30",
   "metadata": {},
   "outputs": [],
   "source": []
  },
  {
   "cell_type": "code",
   "execution_count": null,
   "id": "650e9ae2-3c08-46bc-9bf2-a55a4e892d8c",
   "metadata": {},
   "outputs": [],
   "source": []
  },
  {
   "cell_type": "code",
   "execution_count": null,
   "id": "1228c034-ac6e-45a4-b9c5-2b44718c60c4",
   "metadata": {},
   "outputs": [],
   "source": []
  },
  {
   "cell_type": "code",
   "execution_count": null,
   "id": "e1554d8b-8d8c-4a68-8aeb-bfe082499ed4",
   "metadata": {},
   "outputs": [],
   "source": []
  },
  {
   "cell_type": "code",
   "execution_count": null,
   "id": "29f5f3f0-ed1e-459f-97b2-012c79673611",
   "metadata": {},
   "outputs": [],
   "source": []
  },
  {
   "cell_type": "code",
   "execution_count": null,
   "id": "d6ba7920-76d2-4ede-a821-e71025333098",
   "metadata": {},
   "outputs": [],
   "source": []
  },
  {
   "cell_type": "code",
   "execution_count": null,
   "id": "191304d5-0654-4b15-83c5-6786f51bd6d4",
   "metadata": {},
   "outputs": [],
   "source": []
  },
  {
   "cell_type": "code",
   "execution_count": null,
   "id": "f03ed97b-5d3b-46a2-914d-3107869360b0",
   "metadata": {},
   "outputs": [],
   "source": []
  },
  {
   "cell_type": "code",
   "execution_count": null,
   "id": "e78987e2-eb17-4c6b-93a9-5134e2224d49",
   "metadata": {},
   "outputs": [],
   "source": []
  },
  {
   "cell_type": "code",
   "execution_count": null,
   "id": "a072fc59-eece-4e8b-afb6-280176546009",
   "metadata": {},
   "outputs": [],
   "source": []
  },
  {
   "cell_type": "code",
   "execution_count": null,
   "id": "5acd420e-c704-40b5-a1df-731f2af48e2b",
   "metadata": {},
   "outputs": [],
   "source": []
  },
  {
   "cell_type": "code",
   "execution_count": null,
   "id": "c7974efd-db4d-4b46-97e5-384c8dad6cae",
   "metadata": {},
   "outputs": [],
   "source": []
  },
  {
   "cell_type": "code",
   "execution_count": null,
   "id": "5038b32b-c114-4434-b4d6-fc5d5a74ac4f",
   "metadata": {},
   "outputs": [],
   "source": []
  },
  {
   "cell_type": "code",
   "execution_count": null,
   "id": "5cef22e5-86a9-44b2-9d7a-74c6f753c8bb",
   "metadata": {},
   "outputs": [],
   "source": []
  },
  {
   "cell_type": "code",
   "execution_count": null,
   "id": "ac89545c-f768-493a-a93e-e064813fe993",
   "metadata": {},
   "outputs": [],
   "source": []
  },
  {
   "cell_type": "code",
   "execution_count": null,
   "id": "58d876c7-95b3-4d2f-a4e8-864340e6e1a1",
   "metadata": {},
   "outputs": [],
   "source": []
  },
  {
   "cell_type": "code",
   "execution_count": null,
   "id": "251a4ce5-62c0-449d-8b8c-d246f1a05cf8",
   "metadata": {},
   "outputs": [],
   "source": []
  },
  {
   "cell_type": "code",
   "execution_count": null,
   "id": "a8e6d539-4abc-49de-b78d-acd3164b520e",
   "metadata": {},
   "outputs": [],
   "source": []
  }
 ],
 "metadata": {
  "kernelspec": {
   "display_name": "Python 3 (ipykernel)",
   "language": "python",
   "name": "python3"
  },
  "language_info": {
   "codemirror_mode": {
    "name": "ipython",
    "version": 3
   },
   "file_extension": ".py",
   "mimetype": "text/x-python",
   "name": "python",
   "nbconvert_exporter": "python",
   "pygments_lexer": "ipython3",
   "version": "3.11.4"
  }
 },
 "nbformat": 4,
 "nbformat_minor": 5
}
